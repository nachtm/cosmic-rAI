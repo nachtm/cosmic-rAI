{
 "cells": [
  {
   "cell_type": "markdown",
   "metadata": {},
   "source": [
    "# Setup"
   ]
  },
  {
   "cell_type": "code",
   "execution_count": 43,
   "metadata": {},
   "outputs": [],
   "source": [
    "import numpy as np\n",
    "import math\n",
    "\n",
    "from PIL import Image\n",
    "import glob, os"
   ]
  },
  {
   "cell_type": "markdown",
   "metadata": {},
   "source": [
    "Need to use `.item()` as per https://stackoverflow.com/questions/24565916/why-is-numpy-shape-empty (and also Frank's message)\n",
    "\n",
    "Also note that `mat1` contains only protons, and `mat2` contains only iron nuclei."
   ]
  },
  {
   "cell_type": "code",
   "execution_count": 210,
   "metadata": {},
   "outputs": [],
   "source": [
    "mat1 = np.load('../data/sim_12360_00.npy').item()\n",
    "mat2 = np.load('../data/sim_12362_00.npy').item()"
   ]
  },
  {
   "cell_type": "markdown",
   "metadata": {},
   "source": [
    "# Exploration"
   ]
  },
  {
   "cell_type": "code",
   "execution_count": 211,
   "metadata": {},
   "outputs": [
    {
     "data": {
      "text/plain": [
       "dict_keys(['Charges', 'Energy', 'File_info', 'dir_reco', 'core_MC', 'Gain', 'core_reco', 'Position', 'dir_MC', 'Fit_status', 'Composition'])"
      ]
     },
     "execution_count": 211,
     "metadata": {},
     "output_type": "execute_result"
    }
   ],
   "source": [
    "mat1.keys()"
   ]
  },
  {
   "cell_type": "markdown",
   "metadata": {},
   "source": [
    "Each index in each array corresponds to one cosmic ray.\n",
    "* Charges: dictionaries, where each dictionary has about (but not exactly!) 6-8 values. Each key is a sensor and each value is the value that sensor gathered. Presumably the sensors that did not recieve significant signal are not included.\n",
    "* Energy: one value per event. Unclear what that value is.\n",
    "* File_info: some information about the file that the event was drawn from \n",
    "* Gain: a list with one item-- a dictionary from sensor to whether it is a high-gain or low-gain sensor. \n",
    "* Position: the position of each sensor. Consists of an x-position array and a y-position array, but it is unclear what order they are in. \n",
    "* Fit_status: mostly `'OK'` with some `'InsufficientHits'` and `'FailedToConverge'`. Unclear where that comes into play.\n",
    "* Composition: a string representing the composition of each ray.\n",
    "\n",
    "New fields:\n",
    "* Dir_MC\n",
    "* Dir_reco: (Occasional `'NaN'`s)\n",
    "* Core_MC\n",
    "* Core_reco"
   ]
  },
  {
   "cell_type": "code",
   "execution_count": 212,
   "metadata": {},
   "outputs": [],
   "source": [
    "def createImgArray(data):\n",
    "    imgArray = []\n",
    "    for i in range(len(data['Charges'])):\n",
    "        event = data['Charges'][i]\n",
    "        eventArray = []\n",
    "        imgArray.append(eventArray)\n",
    "        for sensor in data['Charges'][i].keys():\n",
    "            try:\n",
    "                eventArray.append([sensor, data['Charges'][i][sensor], data['Position'][0][sensor], data['Position'][1][sensor]])\n",
    "            except KeyError:\n",
    "                continue\n",
    "    return imgArray\n",
    "\n",
    "def generatePictures(imgArray, length, name):\n",
    "    imageSet = []\n",
    "    for i in range(length):\n",
    "        image = convertChargeToPicture(imgArray[i])\n",
    "        imageSet.append(image)\n",
    "        imageSet[i].save(\"{}_{:0>3d}.png\".format(name, i))\n",
    "    \n",
    "    return imageSet\n",
    "\n",
    "def convertChargeToPicture(event):\n",
    "    # Position[0] has a range of [-553.5,604.2] and Position[1] has a range of [-497.9,503.6]\n",
    "    padding = 10\n",
    "    offsetX = 554+padding; offsetY = 498+padding;\n",
    "    maxX = 605+padding; maxY = 504+padding\n",
    "    deltaX = 2; deltaY = 2;\n",
    "    \n",
    "    im = Image.new(\"L\", (offsetX+maxX, offsetY+maxY))\n",
    "    px = im.load()\n",
    "    for sensor in event:\n",
    "        for i in range(-deltaX, deltaX):\n",
    "            for j in range(-deltaY, deltaY):\n",
    "                px[sensor[2]+offsetX+i, sensor[3]+offsetY+j] = (round(sensor[1]*100))\n",
    "    \n",
    "    return im\n",
    "\n",
    "def createImgSet(data, length, name):\n",
    "    imgArray = createImgArray(data)\n",
    "    imageSet = generatePictures(imgArray, length, name)\n",
    "    \n",
    "    return imageSet"
   ]
  },
  {
   "cell_type": "code",
   "execution_count": 213,
   "metadata": {},
   "outputs": [],
   "source": [
    "images = createImgSet(mat2, 5, \"Fe\")"
   ]
  },
  {
   "cell_type": "code",
   "execution_count": 9,
   "metadata": {},
   "outputs": [],
   "source": [
    "# sortedArray = sorted(imgArray)"
   ]
  },
  {
   "cell_type": "code",
   "execution_count": 10,
   "metadata": {},
   "outputs": [],
   "source": [
    "# sensorCount = {}\n",
    "# for event in sortedArray:\n",
    "#     if sensorCount.get(event[0]) == None:\n",
    "#         sensorCount[event[0]] = 1\n",
    "#     else:\n",
    "#         sensorCount[event[0]] += 1"
   ]
  },
  {
   "cell_type": "code",
   "execution_count": 209,
   "metadata": {},
   "outputs": [],
   "source": [
    "# sensorCount"
   ]
  },
  {
   "cell_type": "markdown",
   "metadata": {},
   "source": [
    "## Questions"
   ]
  },
  {
   "cell_type": "markdown",
   "metadata": {},
   "source": [
    "* Do the x/y positions correlate to some real-world data? Is it possible to, for example, normalize to all positive?\n",
    "* What does `mat1['File_info']` contain? My instinct is some information about the original simulation files that this was drawn from but perhaps not.\n",
    "* Is it the case that sensors that did not see any signal are not included in `'Charges'`?\n",
    "* What is stored under `Energy`?\n",
    "* Is the `position` array `[x_dict, y_dict]` or `[y_dict, x_dict]`?\n",
    "* Do we have access to the actual/calculated initial conditions information (angle/center) or is that something we need to calculate? If the latter, is there a script somewhere?"
   ]
  },
  {
   "cell_type": "markdown",
   "metadata": {},
   "source": [
    "# Build a gain-differentiated dataset"
   ]
  },
  {
   "cell_type": "markdown",
   "metadata": {},
   "source": [
    "Find all the sensors that are high/low gain"
   ]
  },
  {
   "cell_type": "code",
   "execution_count": 16,
   "metadata": {},
   "outputs": [],
   "source": [
    "hgain = list(filter(lambda x: mat1['Gain'][0][x] == 'High', mat1['Position'][0].keys()))\n",
    "lgain = list(filter(lambda x: mat1['Gain'][0][x] == 'Low', mat1['Position'][0].keys()))"
   ]
  },
  {
   "cell_type": "markdown",
   "metadata": {},
   "source": [
    "Construct a dictionary that goes from name -> column index in the matrix we're about to build"
   ]
  },
  {
   "cell_type": "code",
   "execution_count": 17,
   "metadata": {},
   "outputs": [],
   "source": [
    "#build a name->index dict\n",
    "def get_index_dict(sensors):\n",
    "    name_index_dict = {}\n",
    "    for i in range(len(hgain)):\n",
    "        name_index_dict[hgain[i]] = i\n",
    "    return name_index_dict"
   ]
  },
  {
   "cell_type": "code",
   "execution_count": 18,
   "metadata": {},
   "outputs": [],
   "source": [
    "hgain_indices = get_index_dict(hgain)\n",
    "lgain_indices = get_index_dict(lgain)"
   ]
  },
  {
   "cell_type": "markdown",
   "metadata": {},
   "source": [
    "Build the matrix by setting up an empty one and populating it with the values according to the indices we created above. This is pretty slow atm but I'm sure there are ways to make it more efficient. Perhaps we don't need to make it dense in order to pop it into numpy? "
   ]
  },
  {
   "cell_type": "code",
   "execution_count": 30,
   "metadata": {},
   "outputs": [],
   "source": [
    "hgain_events = np.zeros((len(mat1['Composition']) + len(mat2['Composition']), len(hgain_indices) + 1))\n",
    "for i in range(len(mat1['Charges'])):\n",
    "    event = mat1['Charges'][i]\n",
    "    for sensor in mat1['Charges'][i].keys():\n",
    "        try:\n",
    "            hgain_events[i, hgain_indices[sensor]] = 0 if math.isnan(event[sensor]) else event[sensor]\n",
    "            # print('updated x: {} y: {} to be {}'.format(i,hgain_indices[sensor],event[sensor]))\n",
    "        except KeyError:\n",
    "            continue\n",
    "    hgain_events[i, -1] = 1\n",
    "\n",
    "for i in range(len(mat2['Charges'])):\n",
    "    event = mat2['Charges'][i]\n",
    "    for sensor in mat2['Charges'][i].keys():\n",
    "        try:\n",
    "            hgain_events[len(mat1['Charges']) + i, hgain_indices[sensor]] = 0 if math.isnan(event[sensor]) else event[sensor]\n",
    "        except KeyError:\n",
    "            continue\n",
    "    hgain_events[len(mat1['Charges']) + i, -1] = 0"
   ]
  },
  {
   "cell_type": "code",
   "execution_count": 22,
   "metadata": {},
   "outputs": [
    {
     "name": "stdout",
     "output_type": "stream",
     "text": [
      "8163\n",
      "2.1687159538269043 2.1687159538269043\n",
      "3563\n",
      "0.814879298210144 0.814879298210144\n",
      "8161\n",
      "1.5435057878494263 1.5435057878494263\n",
      "3763\n",
      "0.42499926686286926 0.42499926686286926\n",
      "3761\n",
      "0.2992176115512848 0.2992176115512848\n",
      "4661\n",
      "0.9247297048568726 0.9247297048568726\n",
      "4663\n",
      "0.544894814491272 0.544894814491272\n",
      "3561\n",
      "0.3185567855834961 0.3185567855834961\n"
     ]
    }
   ],
   "source": [
    "for key in mat1['Charges'][0].keys():\n",
    "    print(key)\n",
    "    print(str(hgain_events[0,hgain_indices[key]]) + \" \" + str(mat1['Charges'][0][key]))"
   ]
  },
  {
   "cell_type": "code",
   "execution_count": 28,
   "metadata": {},
   "outputs": [
    {
     "data": {
      "text/plain": [
       "array([ 0.        ,  0.        ,  0.        ,  0.        ,  0.        ,\n",
       "        0.        ,  0.        ,  0.        ,  0.        ,  0.        ,\n",
       "        0.        ,  0.        ,  0.        ,  0.        ,  0.        ,\n",
       "        0.        ,  0.        ,  0.        ,  0.        ,  0.        ,\n",
       "        0.        ,  0.        ,  0.        ,  0.        ,  0.        ,\n",
       "        0.        ,  0.        ,  0.        ,  0.        ,  0.        ,\n",
       "        0.        ,  0.        ,  0.        ,  8.47929478,  0.        ,\n",
       "        0.        ,  0.        ,  0.        ,  0.        ,  0.        ,\n",
       "        0.        ,  0.        ,  0.        ,  0.        ,  0.        ,\n",
       "        0.        ,  0.        ,  0.        ,  0.        ,  0.        ,\n",
       "        0.        ,  1.05663168,  0.        ,  0.        ,  0.        ,\n",
       "        1.85151255,  0.        ,  0.        ,  0.        ,  0.        ,\n",
       "        0.        ,  0.        ,  0.        ,  0.        ,  0.        ,\n",
       "        0.        ,  0.        ,  0.        ,  0.        ,  0.        ,\n",
       "        0.        ,  0.        ,  0.        ,  2.96277118,  0.        ,\n",
       "        0.        ,  1.01646626,  0.16801263,  0.        ,  0.        ,\n",
       "        0.        ,  0.        ,  0.        ,  0.        ,  0.        ,\n",
       "        0.        ,  0.        ,  0.        ,  0.        ,  9.7258873 ,\n",
       "       12.63971615,  0.        ,  0.        ,  0.        ,  0.        ,\n",
       "        0.        ,  0.        ,  0.        ,  0.        ,  0.        ,\n",
       "        0.        ,  1.59256649,  0.        ,  0.        ,  0.        ,\n",
       "        0.        ,  0.        ,  0.        ,  0.        ,  0.        ,\n",
       "        0.        ,  1.56119561,  0.        ,  0.        ,  0.        ,\n",
       "        0.565503  ,  0.        ,  0.        ,  0.        ,  0.        ,\n",
       "        0.        ,  0.        ,  0.        ,  0.        ,  0.        ,\n",
       "        0.        ,  1.28802836,  3.3747263 ,  0.        ,  0.        ,\n",
       "        0.        ,  0.        ,  0.        ,  0.        ,  0.        ,\n",
       "        0.        ,  0.        ,  0.        ,  0.        ,  0.        ,\n",
       "        0.        ,  0.        ,  0.        ,  0.        ,  0.        ,\n",
       "        0.        ,  0.        ,  0.        ,  0.        ,  0.        ,\n",
       "        0.        ,  0.        ,  0.        ,  0.        ,  0.        ,\n",
       "        0.        ,  0.        ,  0.        ,  0.        ,  0.        ,\n",
       "        0.        ,  0.        ,  1.        ])"
      ]
     },
     "execution_count": 28,
     "metadata": {},
     "output_type": "execute_result"
    }
   ],
   "source": [
    "hgain_events[16529, :]"
   ]
  },
  {
   "cell_type": "markdown",
   "metadata": {},
   "source": [
    "# Split high-gain into training/test set"
   ]
  },
  {
   "cell_type": "code",
   "execution_count": 29,
   "metadata": {},
   "outputs": [],
   "source": [
    "np.random.shuffle(hgain_events)\n",
    "train_size = int(hgain_events.shape[0] * .9)\n",
    "\n",
    "trainset = hgain_events[:train_size]\n",
    "testset = hgain_events[train_size:]"
   ]
  },
  {
   "cell_type": "code",
   "execution_count": 38,
   "metadata": {},
   "outputs": [
    {
     "data": {
      "text/plain": [
       "(13570, 163)"
      ]
     },
     "execution_count": 38,
     "metadata": {},
     "output_type": "execute_result"
    }
   ],
   "source": [
    "trainset[trainset[:,-1]==0].shape"
   ]
  },
  {
   "cell_type": "code",
   "execution_count": 39,
   "metadata": {},
   "outputs": [],
   "source": [
    "np.save('small_train.npy', trainset)\n",
    "np.save('small_test.npy', testset)"
   ]
  }
 ],
 "metadata": {
  "kernelspec": {
   "display_name": "Python 3",
   "language": "python",
   "name": "python3"
  },
  "language_info": {
   "codemirror_mode": {
    "name": "ipython",
    "version": 3
   },
   "file_extension": ".py",
   "mimetype": "text/x-python",
   "name": "python",
   "nbconvert_exporter": "python",
   "pygments_lexer": "ipython3",
   "version": "3.6.4"
  }
 },
 "nbformat": 4,
 "nbformat_minor": 2
}
