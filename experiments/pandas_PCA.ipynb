{
 "cells": [
  {
   "cell_type": "markdown",
   "metadata": {},
   "source": [
    "# Unpacking Data with Pandas"
   ]
  },
  {
   "cell_type": "code",
   "execution_count": 1,
   "metadata": {},
   "outputs": [],
   "source": [
    "import sys\n",
    "sys.path.append(\"../\")\n",
    "\n",
    "import math\n",
    "import numpy as np\n",
    "import pandas as pd\n",
    "from cosmic_rAI import data_prep"
   ]
  },
  {
   "cell_type": "code",
   "execution_count": 2,
   "metadata": {},
   "outputs": [],
   "source": [
    "mat1 = np.load('../data/sim_12360_00.npy').item()  # protons\n",
    "mat2 = np.load('../data/sim_12362_00.npy').item()  # iron"
   ]
  },
  {
   "cell_type": "markdown",
   "metadata": {},
   "source": [
    "## Making DataFrames from Arrays"
   ]
  },
  {
   "cell_type": "markdown",
   "metadata": {},
   "source": [
    "### Event DataFrame"
   ]
  },
  {
   "cell_type": "code",
   "execution_count": 3,
   "metadata": {},
   "outputs": [],
   "source": [
    "def event_df_from_matrix(mat):\n",
    "    frames = {\n",
    "        'charges': pd.DataFrame(mat1['Charges']),\n",
    "        'energy': pd.DataFrame(mat1['Energy']),\n",
    "        'composition': pd.DataFrame(mat1['Composition']),}\n",
    "    return pd.concat(frames, axis=1)"
   ]
  },
  {
   "cell_type": "code",
   "execution_count": 4,
   "metadata": {},
   "outputs": [
    {
     "data": {
      "text/plain": [
       "16531"
      ]
     },
     "execution_count": 4,
     "metadata": {},
     "output_type": "execute_result"
    }
   ],
   "source": [
    "df = event_df_from_matrix(mat1)\n",
    "len(df)"
   ]
  },
  {
   "cell_type": "code",
   "execution_count": 5,
   "metadata": {},
   "outputs": [
    {
     "data": {
      "text/html": [
       "<div>\n",
       "<style scoped>\n",
       "    .dataframe tbody tr th:only-of-type {\n",
       "        vertical-align: middle;\n",
       "    }\n",
       "\n",
       "    .dataframe tbody tr th {\n",
       "        vertical-align: top;\n",
       "    }\n",
       "\n",
       "    .dataframe thead tr th {\n",
       "        text-align: left;\n",
       "    }\n",
       "</style>\n",
       "<table border=\"1\" class=\"dataframe\">\n",
       "  <thead>\n",
       "    <tr>\n",
       "      <th></th>\n",
       "      <th colspan=\"19\" halign=\"left\">charges</th>\n",
       "      <th>composition</th>\n",
       "      <th>energy</th>\n",
       "    </tr>\n",
       "    <tr>\n",
       "      <th></th>\n",
       "      <th>0161</th>\n",
       "      <th>0162</th>\n",
       "      <th>0163</th>\n",
       "      <th>0164</th>\n",
       "      <th>0261</th>\n",
       "      <th>0262</th>\n",
       "      <th>0263</th>\n",
       "      <th>0264</th>\n",
       "      <th>0361</th>\n",
       "      <th>0362</th>\n",
       "      <th>...</th>\n",
       "      <th>8061</th>\n",
       "      <th>8062</th>\n",
       "      <th>8063</th>\n",
       "      <th>8064</th>\n",
       "      <th>8161</th>\n",
       "      <th>8162</th>\n",
       "      <th>8163</th>\n",
       "      <th>8164</th>\n",
       "      <th>0</th>\n",
       "      <th>0</th>\n",
       "    </tr>\n",
       "  </thead>\n",
       "  <tbody>\n",
       "    <tr>\n",
       "      <th>0</th>\n",
       "      <td>NaN</td>\n",
       "      <td>NaN</td>\n",
       "      <td>NaN</td>\n",
       "      <td>NaN</td>\n",
       "      <td>NaN</td>\n",
       "      <td>NaN</td>\n",
       "      <td>NaN</td>\n",
       "      <td>NaN</td>\n",
       "      <td>NaN</td>\n",
       "      <td>NaN</td>\n",
       "      <td>...</td>\n",
       "      <td>NaN</td>\n",
       "      <td>NaN</td>\n",
       "      <td>NaN</td>\n",
       "      <td>NaN</td>\n",
       "      <td>1.543506</td>\n",
       "      <td>NaN</td>\n",
       "      <td>2.168716</td>\n",
       "      <td>NaN</td>\n",
       "      <td>PPlus</td>\n",
       "      <td>137553.657022</td>\n",
       "    </tr>\n",
       "    <tr>\n",
       "      <th>1</th>\n",
       "      <td>NaN</td>\n",
       "      <td>NaN</td>\n",
       "      <td>NaN</td>\n",
       "      <td>NaN</td>\n",
       "      <td>NaN</td>\n",
       "      <td>NaN</td>\n",
       "      <td>NaN</td>\n",
       "      <td>NaN</td>\n",
       "      <td>NaN</td>\n",
       "      <td>NaN</td>\n",
       "      <td>...</td>\n",
       "      <td>NaN</td>\n",
       "      <td>NaN</td>\n",
       "      <td>NaN</td>\n",
       "      <td>NaN</td>\n",
       "      <td>NaN</td>\n",
       "      <td>NaN</td>\n",
       "      <td>NaN</td>\n",
       "      <td>NaN</td>\n",
       "      <td>PPlus</td>\n",
       "      <td>137553.657022</td>\n",
       "    </tr>\n",
       "  </tbody>\n",
       "</table>\n",
       "<p>2 rows × 325 columns</p>\n",
       "</div>"
      ],
      "text/plain": [
       "  charges                                                   ...             \\\n",
       "     0161 0162 0163 0164 0261 0262 0263 0264 0361 0362      ...       8061   \n",
       "0     NaN  NaN  NaN  NaN  NaN  NaN  NaN  NaN  NaN  NaN      ...        NaN   \n",
       "1     NaN  NaN  NaN  NaN  NaN  NaN  NaN  NaN  NaN  NaN      ...        NaN   \n",
       "\n",
       "                                               composition         energy  \n",
       "  8062 8063 8064      8161 8162      8163 8164           0              0  \n",
       "0  NaN  NaN  NaN  1.543506  NaN  2.168716  NaN       PPlus  137553.657022  \n",
       "1  NaN  NaN  NaN       NaN  NaN       NaN  NaN       PPlus  137553.657022  \n",
       "\n",
       "[2 rows x 325 columns]"
      ]
     },
     "execution_count": 5,
     "metadata": {},
     "output_type": "execute_result"
    }
   ],
   "source": [
    "df.head(n=2)"
   ]
  },
  {
   "cell_type": "markdown",
   "metadata": {},
   "source": [
    "#### Add location data"
   ]
  },
  {
   "cell_type": "code",
   "execution_count": 6,
   "metadata": {},
   "outputs": [],
   "source": [
    "keys = ('dir_MC', 'core_MC', 'dir_reco', 'core_reco')\n",
    "d = {}\n",
    "for k in keys:\n",
    "    l = mat1[k]\n",
    "    _d = {'x': l[::2], 'y': l[1::2]}\n",
    "    d[k] = pd.DataFrame(_d)\n",
    "pos_df = pd.concat(d, axis=1)"
   ]
  },
  {
   "cell_type": "code",
   "execution_count": 7,
   "metadata": {},
   "outputs": [
    {
     "data": {
      "text/plain": [
       "16531"
      ]
     },
     "execution_count": 7,
     "metadata": {},
     "output_type": "execute_result"
    }
   ],
   "source": [
    "event_df = pd.concat([df, pos_df], axis=1)\n",
    "len(event_df)"
   ]
  },
  {
   "cell_type": "code",
   "execution_count": 8,
   "metadata": {},
   "outputs": [
    {
     "data": {
      "text/html": [
       "<div>\n",
       "<style scoped>\n",
       "    .dataframe tbody tr th:only-of-type {\n",
       "        vertical-align: middle;\n",
       "    }\n",
       "\n",
       "    .dataframe tbody tr th {\n",
       "        vertical-align: top;\n",
       "    }\n",
       "\n",
       "    .dataframe thead tr th {\n",
       "        text-align: left;\n",
       "    }\n",
       "</style>\n",
       "<table border=\"1\" class=\"dataframe\">\n",
       "  <thead>\n",
       "    <tr>\n",
       "      <th></th>\n",
       "      <th colspan=\"10\" halign=\"left\">charges</th>\n",
       "      <th>...</th>\n",
       "      <th>composition</th>\n",
       "      <th>energy</th>\n",
       "      <th colspan=\"2\" halign=\"left\">core_MC</th>\n",
       "      <th colspan=\"2\" halign=\"left\">core_reco</th>\n",
       "      <th colspan=\"2\" halign=\"left\">dir_MC</th>\n",
       "      <th colspan=\"2\" halign=\"left\">dir_reco</th>\n",
       "    </tr>\n",
       "    <tr>\n",
       "      <th></th>\n",
       "      <th>0161</th>\n",
       "      <th>0162</th>\n",
       "      <th>0163</th>\n",
       "      <th>0164</th>\n",
       "      <th>0261</th>\n",
       "      <th>0262</th>\n",
       "      <th>0263</th>\n",
       "      <th>0264</th>\n",
       "      <th>0361</th>\n",
       "      <th>0362</th>\n",
       "      <th>...</th>\n",
       "      <th>0</th>\n",
       "      <th>0</th>\n",
       "      <th>x</th>\n",
       "      <th>y</th>\n",
       "      <th>x</th>\n",
       "      <th>y</th>\n",
       "      <th>x</th>\n",
       "      <th>y</th>\n",
       "      <th>x</th>\n",
       "      <th>y</th>\n",
       "    </tr>\n",
       "  </thead>\n",
       "  <tbody>\n",
       "    <tr>\n",
       "      <th>0</th>\n",
       "      <td>NaN</td>\n",
       "      <td>NaN</td>\n",
       "      <td>NaN</td>\n",
       "      <td>NaN</td>\n",
       "      <td>NaN</td>\n",
       "      <td>NaN</td>\n",
       "      <td>NaN</td>\n",
       "      <td>NaN</td>\n",
       "      <td>NaN</td>\n",
       "      <td>NaN</td>\n",
       "      <td>...</td>\n",
       "      <td>PPlus</td>\n",
       "      <td>137553.657022</td>\n",
       "      <td>39.491699</td>\n",
       "      <td>27.012478</td>\n",
       "      <td>48.792127</td>\n",
       "      <td>25.608482</td>\n",
       "      <td>0.216553</td>\n",
       "      <td>0.765261</td>\n",
       "      <td>0.253442</td>\n",
       "      <td>0.899646</td>\n",
       "    </tr>\n",
       "    <tr>\n",
       "      <th>1</th>\n",
       "      <td>NaN</td>\n",
       "      <td>NaN</td>\n",
       "      <td>NaN</td>\n",
       "      <td>NaN</td>\n",
       "      <td>NaN</td>\n",
       "      <td>NaN</td>\n",
       "      <td>NaN</td>\n",
       "      <td>NaN</td>\n",
       "      <td>NaN</td>\n",
       "      <td>NaN</td>\n",
       "      <td>...</td>\n",
       "      <td>PPlus</td>\n",
       "      <td>137553.657022</td>\n",
       "      <td>-249.483765</td>\n",
       "      <td>269.715753</td>\n",
       "      <td>-260.517562</td>\n",
       "      <td>262.071308</td>\n",
       "      <td>0.216553</td>\n",
       "      <td>0.765261</td>\n",
       "      <td>0.231127</td>\n",
       "      <td>0.715951</td>\n",
       "    </tr>\n",
       "  </tbody>\n",
       "</table>\n",
       "<p>2 rows × 333 columns</p>\n",
       "</div>"
      ],
      "text/plain": [
       "  charges                                                 ...    composition  \\\n",
       "     0161 0162 0163 0164 0261 0262 0263 0264 0361 0362    ...              0   \n",
       "0     NaN  NaN  NaN  NaN  NaN  NaN  NaN  NaN  NaN  NaN    ...          PPlus   \n",
       "1     NaN  NaN  NaN  NaN  NaN  NaN  NaN  NaN  NaN  NaN    ...          PPlus   \n",
       "\n",
       "          energy     core_MC               core_reco                dir_MC  \\\n",
       "               0           x           y           x           y         x   \n",
       "0  137553.657022   39.491699   27.012478   48.792127   25.608482  0.216553   \n",
       "1  137553.657022 -249.483765  269.715753 -260.517562  262.071308  0.216553   \n",
       "\n",
       "             dir_reco            \n",
       "          y         x         y  \n",
       "0  0.765261  0.253442  0.899646  \n",
       "1  0.765261  0.231127  0.715951  \n",
       "\n",
       "[2 rows x 333 columns]"
      ]
     },
     "execution_count": 8,
     "metadata": {},
     "output_type": "execute_result"
    }
   ],
   "source": [
    "event_df.head(n=2)"
   ]
  },
  {
   "cell_type": "markdown",
   "metadata": {},
   "source": [
    "#### Another format..."
   ]
  },
  {
   "cell_type": "code",
   "execution_count": 24,
   "metadata": {},
   "outputs": [],
   "source": [
    "def flatten(df):\n",
    "    new_df = df.copy()\n",
    "    lvl0 = event_df.columns.get_level_values(0).astype('str')\n",
    "    lvl1 = event_df.columns.get_level_values(1).astype('str')\n",
    "    cols = lvl0 + '_' +lvl1\n",
    "    new_df.columns = cols\n",
    "    return new_df"
   ]
  },
  {
   "cell_type": "code",
   "execution_count": 25,
   "metadata": {},
   "outputs": [
    {
     "data": {
      "text/html": [
       "<div>\n",
       "<style scoped>\n",
       "    .dataframe tbody tr th:only-of-type {\n",
       "        vertical-align: middle;\n",
       "    }\n",
       "\n",
       "    .dataframe tbody tr th {\n",
       "        vertical-align: top;\n",
       "    }\n",
       "\n",
       "    .dataframe thead th {\n",
       "        text-align: right;\n",
       "    }\n",
       "</style>\n",
       "<table border=\"1\" class=\"dataframe\">\n",
       "  <thead>\n",
       "    <tr style=\"text-align: right;\">\n",
       "      <th></th>\n",
       "      <th>charges_0161</th>\n",
       "      <th>charges_0162</th>\n",
       "      <th>charges_0163</th>\n",
       "      <th>charges_0164</th>\n",
       "      <th>charges_0261</th>\n",
       "      <th>charges_0262</th>\n",
       "      <th>charges_0263</th>\n",
       "      <th>charges_0264</th>\n",
       "      <th>charges_0361</th>\n",
       "      <th>charges_0362</th>\n",
       "      <th>...</th>\n",
       "      <th>composition_0</th>\n",
       "      <th>energy_0</th>\n",
       "      <th>core_MC_x</th>\n",
       "      <th>core_MC_y</th>\n",
       "      <th>core_reco_x</th>\n",
       "      <th>core_reco_y</th>\n",
       "      <th>dir_MC_x</th>\n",
       "      <th>dir_MC_y</th>\n",
       "      <th>dir_reco_x</th>\n",
       "      <th>dir_reco_y</th>\n",
       "    </tr>\n",
       "  </thead>\n",
       "  <tbody>\n",
       "    <tr>\n",
       "      <th>0</th>\n",
       "      <td>NaN</td>\n",
       "      <td>NaN</td>\n",
       "      <td>NaN</td>\n",
       "      <td>NaN</td>\n",
       "      <td>NaN</td>\n",
       "      <td>NaN</td>\n",
       "      <td>NaN</td>\n",
       "      <td>NaN</td>\n",
       "      <td>NaN</td>\n",
       "      <td>NaN</td>\n",
       "      <td>...</td>\n",
       "      <td>PPlus</td>\n",
       "      <td>137553.657022</td>\n",
       "      <td>39.491699</td>\n",
       "      <td>27.012478</td>\n",
       "      <td>48.792127</td>\n",
       "      <td>25.608482</td>\n",
       "      <td>0.216553</td>\n",
       "      <td>0.765261</td>\n",
       "      <td>0.253442</td>\n",
       "      <td>0.899646</td>\n",
       "    </tr>\n",
       "    <tr>\n",
       "      <th>1</th>\n",
       "      <td>NaN</td>\n",
       "      <td>NaN</td>\n",
       "      <td>NaN</td>\n",
       "      <td>NaN</td>\n",
       "      <td>NaN</td>\n",
       "      <td>NaN</td>\n",
       "      <td>NaN</td>\n",
       "      <td>NaN</td>\n",
       "      <td>NaN</td>\n",
       "      <td>NaN</td>\n",
       "      <td>...</td>\n",
       "      <td>PPlus</td>\n",
       "      <td>137553.657022</td>\n",
       "      <td>-249.483765</td>\n",
       "      <td>269.715753</td>\n",
       "      <td>-260.517562</td>\n",
       "      <td>262.071308</td>\n",
       "      <td>0.216553</td>\n",
       "      <td>0.765261</td>\n",
       "      <td>0.231127</td>\n",
       "      <td>0.715951</td>\n",
       "    </tr>\n",
       "  </tbody>\n",
       "</table>\n",
       "<p>2 rows × 333 columns</p>\n",
       "</div>"
      ],
      "text/plain": [
       "   charges_0161  charges_0162  charges_0163  charges_0164  charges_0261  \\\n",
       "0           NaN           NaN           NaN           NaN           NaN   \n",
       "1           NaN           NaN           NaN           NaN           NaN   \n",
       "\n",
       "   charges_0262  charges_0263  charges_0264  charges_0361  charges_0362  \\\n",
       "0           NaN           NaN           NaN           NaN           NaN   \n",
       "1           NaN           NaN           NaN           NaN           NaN   \n",
       "\n",
       "      ...      composition_0       energy_0   core_MC_x   core_MC_y  \\\n",
       "0     ...              PPlus  137553.657022   39.491699   27.012478   \n",
       "1     ...              PPlus  137553.657022 -249.483765  269.715753   \n",
       "\n",
       "   core_reco_x  core_reco_y  dir_MC_x  dir_MC_y  dir_reco_x  dir_reco_y  \n",
       "0    48.792127    25.608482  0.216553  0.765261    0.253442    0.899646  \n",
       "1  -260.517562   262.071308  0.216553  0.765261    0.231127    0.715951  \n",
       "\n",
       "[2 rows x 333 columns]"
      ]
     },
     "execution_count": 25,
     "metadata": {},
     "output_type": "execute_result"
    }
   ],
   "source": [
    "flat_df = flatten(event_df)\n",
    "flat_df.head(n=2)"
   ]
  },
  {
   "cell_type": "markdown",
   "metadata": {},
   "source": [
    "### Sensor DataFrame"
   ]
  },
  {
   "cell_type": "code",
   "execution_count": 26,
   "metadata": {},
   "outputs": [],
   "source": [
    "def sensor_df_from_matrix(mat):\n",
    "    vals = {\n",
    "        'gain': mat1['Gain'][0],\n",
    "        'pos_x': mat1['Position'][0],\n",
    "        'pos_y': mat1['Position'][1],}\n",
    "    return pd.DataFrame(vals)"
   ]
  },
  {
   "cell_type": "code",
   "execution_count": 27,
   "metadata": {},
   "outputs": [
    {
     "data": {
      "text/plain": [
       "323"
      ]
     },
     "execution_count": 27,
     "metadata": {},
     "output_type": "execute_result"
    }
   ],
   "source": [
    "sensor_df = sensor_df_from_matrix(mat1)\n",
    "len(sensor_df)"
   ]
  },
  {
   "cell_type": "code",
   "execution_count": 28,
   "metadata": {},
   "outputs": [
    {
     "data": {
      "text/html": [
       "<div>\n",
       "<style scoped>\n",
       "    .dataframe tbody tr th:only-of-type {\n",
       "        vertical-align: middle;\n",
       "    }\n",
       "\n",
       "    .dataframe tbody tr th {\n",
       "        vertical-align: top;\n",
       "    }\n",
       "\n",
       "    .dataframe thead th {\n",
       "        text-align: right;\n",
       "    }\n",
       "</style>\n",
       "<table border=\"1\" class=\"dataframe\">\n",
       "  <thead>\n",
       "    <tr style=\"text-align: right;\">\n",
       "      <th></th>\n",
       "      <th>gain</th>\n",
       "      <th>pos_x</th>\n",
       "      <th>pos_y</th>\n",
       "    </tr>\n",
       "  </thead>\n",
       "  <tbody>\n",
       "    <tr>\n",
       "      <th>0161</th>\n",
       "      <td>High</td>\n",
       "      <td>-265.529999</td>\n",
       "      <td>-497.894989</td>\n",
       "    </tr>\n",
       "    <tr>\n",
       "      <th>0162</th>\n",
       "      <td>Low</td>\n",
       "      <td>-265.529999</td>\n",
       "      <td>-497.894989</td>\n",
       "    </tr>\n",
       "    <tr>\n",
       "      <th>0163</th>\n",
       "      <td>High</td>\n",
       "      <td>-255.699997</td>\n",
       "      <td>-496.070007</td>\n",
       "    </tr>\n",
       "    <tr>\n",
       "      <th>0164</th>\n",
       "      <td>Low</td>\n",
       "      <td>-255.699997</td>\n",
       "      <td>-496.070007</td>\n",
       "    </tr>\n",
       "    <tr>\n",
       "      <th>0261</th>\n",
       "      <td>High</td>\n",
       "      <td>-140.360001</td>\n",
       "      <td>-477.764999</td>\n",
       "    </tr>\n",
       "  </tbody>\n",
       "</table>\n",
       "</div>"
      ],
      "text/plain": [
       "      gain       pos_x       pos_y\n",
       "0161  High -265.529999 -497.894989\n",
       "0162   Low -265.529999 -497.894989\n",
       "0163  High -255.699997 -496.070007\n",
       "0164   Low -255.699997 -496.070007\n",
       "0261  High -140.360001 -477.764999"
      ]
     },
     "execution_count": 28,
     "metadata": {},
     "output_type": "execute_result"
    }
   ],
   "source": [
    "sensor_df.head()"
   ]
  },
  {
   "cell_type": "code",
   "execution_count": null,
   "metadata": {},
   "outputs": [],
   "source": []
  },
  {
   "cell_type": "code",
   "execution_count": null,
   "metadata": {},
   "outputs": [],
   "source": []
  },
  {
   "cell_type": "markdown",
   "metadata": {},
   "source": [
    "## PCA"
   ]
  },
  {
   "cell_type": "code",
   "execution_count": 127,
   "metadata": {},
   "outputs": [],
   "source": [
    "from sklearn.decomposition import PCA"
   ]
  },
  {
   "cell_type": "code",
   "execution_count": 128,
   "metadata": {},
   "outputs": [
    {
     "data": {
      "text/html": [
       "<div>\n",
       "<style scoped>\n",
       "    .dataframe tbody tr th:only-of-type {\n",
       "        vertical-align: middle;\n",
       "    }\n",
       "\n",
       "    .dataframe tbody tr th {\n",
       "        vertical-align: top;\n",
       "    }\n",
       "\n",
       "    .dataframe thead th {\n",
       "        text-align: right;\n",
       "    }\n",
       "</style>\n",
       "<table border=\"1\" class=\"dataframe\">\n",
       "  <thead>\n",
       "    <tr style=\"text-align: right;\">\n",
       "      <th></th>\n",
       "      <th>0161</th>\n",
       "      <th>0162</th>\n",
       "      <th>0163</th>\n",
       "      <th>0164</th>\n",
       "      <th>0261</th>\n",
       "      <th>0262</th>\n",
       "      <th>0263</th>\n",
       "      <th>0264</th>\n",
       "      <th>0361</th>\n",
       "      <th>0362</th>\n",
       "      <th>...</th>\n",
       "      <th>7963</th>\n",
       "      <th>7964</th>\n",
       "      <th>8061</th>\n",
       "      <th>8062</th>\n",
       "      <th>8063</th>\n",
       "      <th>8064</th>\n",
       "      <th>8161</th>\n",
       "      <th>8162</th>\n",
       "      <th>8163</th>\n",
       "      <th>8164</th>\n",
       "    </tr>\n",
       "  </thead>\n",
       "  <tbody>\n",
       "    <tr>\n",
       "      <th>0</th>\n",
       "      <td>NaN</td>\n",
       "      <td>NaN</td>\n",
       "      <td>NaN</td>\n",
       "      <td>NaN</td>\n",
       "      <td>NaN</td>\n",
       "      <td>NaN</td>\n",
       "      <td>NaN</td>\n",
       "      <td>NaN</td>\n",
       "      <td>NaN</td>\n",
       "      <td>NaN</td>\n",
       "      <td>...</td>\n",
       "      <td>NaN</td>\n",
       "      <td>NaN</td>\n",
       "      <td>NaN</td>\n",
       "      <td>NaN</td>\n",
       "      <td>NaN</td>\n",
       "      <td>NaN</td>\n",
       "      <td>1.543506</td>\n",
       "      <td>NaN</td>\n",
       "      <td>2.168716</td>\n",
       "      <td>NaN</td>\n",
       "    </tr>\n",
       "    <tr>\n",
       "      <th>1</th>\n",
       "      <td>NaN</td>\n",
       "      <td>NaN</td>\n",
       "      <td>NaN</td>\n",
       "      <td>NaN</td>\n",
       "      <td>NaN</td>\n",
       "      <td>NaN</td>\n",
       "      <td>NaN</td>\n",
       "      <td>NaN</td>\n",
       "      <td>NaN</td>\n",
       "      <td>NaN</td>\n",
       "      <td>...</td>\n",
       "      <td>NaN</td>\n",
       "      <td>NaN</td>\n",
       "      <td>NaN</td>\n",
       "      <td>NaN</td>\n",
       "      <td>NaN</td>\n",
       "      <td>NaN</td>\n",
       "      <td>NaN</td>\n",
       "      <td>NaN</td>\n",
       "      <td>NaN</td>\n",
       "      <td>NaN</td>\n",
       "    </tr>\n",
       "    <tr>\n",
       "      <th>2</th>\n",
       "      <td>NaN</td>\n",
       "      <td>NaN</td>\n",
       "      <td>NaN</td>\n",
       "      <td>NaN</td>\n",
       "      <td>NaN</td>\n",
       "      <td>NaN</td>\n",
       "      <td>NaN</td>\n",
       "      <td>NaN</td>\n",
       "      <td>NaN</td>\n",
       "      <td>NaN</td>\n",
       "      <td>...</td>\n",
       "      <td>NaN</td>\n",
       "      <td>NaN</td>\n",
       "      <td>0.439023</td>\n",
       "      <td>NaN</td>\n",
       "      <td>0.496192</td>\n",
       "      <td>NaN</td>\n",
       "      <td>7.982038</td>\n",
       "      <td>NaN</td>\n",
       "      <td>9.587134</td>\n",
       "      <td>NaN</td>\n",
       "    </tr>\n",
       "    <tr>\n",
       "      <th>3</th>\n",
       "      <td>NaN</td>\n",
       "      <td>NaN</td>\n",
       "      <td>NaN</td>\n",
       "      <td>NaN</td>\n",
       "      <td>NaN</td>\n",
       "      <td>NaN</td>\n",
       "      <td>NaN</td>\n",
       "      <td>NaN</td>\n",
       "      <td>NaN</td>\n",
       "      <td>NaN</td>\n",
       "      <td>...</td>\n",
       "      <td>NaN</td>\n",
       "      <td>NaN</td>\n",
       "      <td>NaN</td>\n",
       "      <td>NaN</td>\n",
       "      <td>NaN</td>\n",
       "      <td>NaN</td>\n",
       "      <td>NaN</td>\n",
       "      <td>NaN</td>\n",
       "      <td>NaN</td>\n",
       "      <td>NaN</td>\n",
       "    </tr>\n",
       "    <tr>\n",
       "      <th>4</th>\n",
       "      <td>NaN</td>\n",
       "      <td>NaN</td>\n",
       "      <td>NaN</td>\n",
       "      <td>NaN</td>\n",
       "      <td>NaN</td>\n",
       "      <td>NaN</td>\n",
       "      <td>NaN</td>\n",
       "      <td>NaN</td>\n",
       "      <td>NaN</td>\n",
       "      <td>NaN</td>\n",
       "      <td>...</td>\n",
       "      <td>NaN</td>\n",
       "      <td>NaN</td>\n",
       "      <td>NaN</td>\n",
       "      <td>NaN</td>\n",
       "      <td>NaN</td>\n",
       "      <td>NaN</td>\n",
       "      <td>NaN</td>\n",
       "      <td>NaN</td>\n",
       "      <td>NaN</td>\n",
       "      <td>NaN</td>\n",
       "    </tr>\n",
       "  </tbody>\n",
       "</table>\n",
       "<p>5 rows × 323 columns</p>\n",
       "</div>"
      ],
      "text/plain": [
       "   0161  0162  0163  0164  0261  0262  0263  0264  0361  0362  ...   7963  \\\n",
       "0   NaN   NaN   NaN   NaN   NaN   NaN   NaN   NaN   NaN   NaN  ...    NaN   \n",
       "1   NaN   NaN   NaN   NaN   NaN   NaN   NaN   NaN   NaN   NaN  ...    NaN   \n",
       "2   NaN   NaN   NaN   NaN   NaN   NaN   NaN   NaN   NaN   NaN  ...    NaN   \n",
       "3   NaN   NaN   NaN   NaN   NaN   NaN   NaN   NaN   NaN   NaN  ...    NaN   \n",
       "4   NaN   NaN   NaN   NaN   NaN   NaN   NaN   NaN   NaN   NaN  ...    NaN   \n",
       "\n",
       "   7964      8061  8062      8063  8064      8161  8162      8163  8164  \n",
       "0   NaN       NaN   NaN       NaN   NaN  1.543506   NaN  2.168716   NaN  \n",
       "1   NaN       NaN   NaN       NaN   NaN       NaN   NaN       NaN   NaN  \n",
       "2   NaN  0.439023   NaN  0.496192   NaN  7.982038   NaN  9.587134   NaN  \n",
       "3   NaN       NaN   NaN       NaN   NaN       NaN   NaN       NaN   NaN  \n",
       "4   NaN       NaN   NaN       NaN   NaN       NaN   NaN       NaN   NaN  \n",
       "\n",
       "[5 rows x 323 columns]"
      ]
     },
     "execution_count": 128,
     "metadata": {},
     "output_type": "execute_result"
    }
   ],
   "source": [
    "X = event_df['charges']\n",
    "X.head()"
   ]
  },
  {
   "cell_type": "markdown",
   "metadata": {},
   "source": [
    "#### Idea 1"
   ]
  },
  {
   "cell_type": "code",
   "execution_count": 133,
   "metadata": {},
   "outputs": [],
   "source": [
    "# PCA doesn't like sparse data\n",
    "# Here's one (bad!) idea...\n",
    "\n",
    "from sklearn.preprocessing import Imputer\n",
    "\n",
    "imp = Imputer()\n",
    "X = event_df['charges']\n",
    "X = imp.fit_transform(X)"
   ]
  },
  {
   "cell_type": "code",
   "execution_count": 134,
   "metadata": {},
   "outputs": [
    {
     "data": {
      "text/plain": [
       "PCA(copy=True, iterated_power='auto', n_components=2, random_state=None,\n",
       "  svd_solver='auto', tol=0.0, whiten=False)"
      ]
     },
     "execution_count": 134,
     "metadata": {},
     "output_type": "execute_result"
    }
   ],
   "source": [
    "pca = PCA(n_components=2)\n",
    "pca.fit(X)"
   ]
  },
  {
   "cell_type": "code",
   "execution_count": 135,
   "metadata": {},
   "outputs": [
    {
     "data": {
      "text/plain": [
       "(16531, 323)"
      ]
     },
     "execution_count": 135,
     "metadata": {},
     "output_type": "execute_result"
    }
   ],
   "source": [
    "X.shape"
   ]
  },
  {
   "cell_type": "code",
   "execution_count": 136,
   "metadata": {},
   "outputs": [],
   "source": [
    "X = pca.transform(X)"
   ]
  },
  {
   "cell_type": "code",
   "execution_count": 137,
   "metadata": {},
   "outputs": [
    {
     "data": {
      "text/plain": [
       "(16531, 2)"
      ]
     },
     "execution_count": 137,
     "metadata": {},
     "output_type": "execute_result"
    }
   ],
   "source": [
    "X.shape"
   ]
  }
 ],
 "metadata": {
  "kernelspec": {
   "display_name": "Python 3",
   "language": "python",
   "name": "python3"
  },
  "language_info": {
   "codemirror_mode": {
    "name": "ipython",
    "version": 3
   },
   "file_extension": ".py",
   "mimetype": "text/x-python",
   "name": "python",
   "nbconvert_exporter": "python",
   "pygments_lexer": "ipython3",
   "version": "3.6.4"
  }
 },
 "nbformat": 4,
 "nbformat_minor": 2
}
