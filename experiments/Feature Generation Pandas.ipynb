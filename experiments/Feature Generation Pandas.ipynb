{
 "cells": [
  {
   "cell_type": "markdown",
   "metadata": {},
   "source": [
    "# Setup"
   ]
  },
  {
   "cell_type": "markdown",
   "metadata": {},
   "source": [
    "## Imports"
   ]
  },
  {
   "cell_type": "code",
   "execution_count": 1,
   "metadata": {},
   "outputs": [],
   "source": [
    "import numpy as np\n",
    "import pandas as pd\n",
    "import math\n",
    "import pickle\n",
    "import sys\n",
    "sys.path.insert(0, '..')\n",
    "\n",
    "from cosmic_rAI.data_prep import (event_df_from_matrices,\n",
    "                                  flatten_event_df)\n",
    "from cosmic_rAI.machine_learning import (one_run,\n",
    "                                         get_labels)"
   ]
  },
  {
   "cell_type": "code",
   "execution_count": 2,
   "metadata": {},
   "outputs": [],
   "source": [
    "def get_all_data(list_of_files):\n",
    "    list_of_dicts = [np.load(filepath).item() for filepath in list_of_files]\n",
    "    return list_of_dicts"
   ]
  },
  {
   "cell_type": "code",
   "execution_count": 3,
   "metadata": {},
   "outputs": [],
   "source": [
    "prefixes = ('../data/sim_12360_', '../data/sim_12362_')\n",
    "files = []\n",
    "for prefix in prefixes:\n",
    "    for i in range(20):\n",
    "        files.append('{0}{1:02d}.npy'.format(prefix,i))"
   ]
  },
  {
   "cell_type": "code",
   "execution_count": 4,
   "metadata": {},
   "outputs": [],
   "source": [
    "data = event_df_from_matrices(get_all_data(files))"
   ]
  },
  {
   "cell_type": "markdown",
   "metadata": {},
   "source": [
    "# Different Experiments"
   ]
  },
  {
   "cell_type": "markdown",
   "metadata": {},
   "source": [
    "## Use only events in a certain azimuth/zenith band"
   ]
  },
  {
   "cell_type": "code",
   "execution_count": 5,
   "metadata": {},
   "outputs": [],
   "source": [
    "dir_band_data = data[data.loc[:, ('dir_MC','zenith')].between(0, .17) & data.loc[:,('dir_MC','azimuth')].between(0,1) & (data['charges'].max(axis=1) > 6)]"
   ]
  },
  {
   "cell_type": "code",
   "execution_count": 6,
   "metadata": {},
   "outputs": [],
   "source": [
    "dir_band_data = dir_band_data.sample(frac=1)\n",
    "train_size = int(dir_band_data.shape[0] * .9)\n",
    "\n",
    "trainset = dir_band_data[:train_size]\n",
    "testset = dir_band_data[train_size:]"
   ]
  },
  {
   "cell_type": "code",
   "execution_count": 7,
   "metadata": {},
   "outputs": [
    {
     "name": "stdout",
     "output_type": "stream",
     "text": [
      "INFO:tensorflow:Using default config.\n",
      "WARNING:tensorflow:Using temporary folder as model directory: /tmp/tmpt4t7ejlj\n",
      "INFO:tensorflow:Using config: {'_save_summary_steps': 100, '_is_chief': True, '_save_checkpoints_secs': 600, '_keep_checkpoint_max': 5, '_num_worker_replicas': 1, '_session_config': None, '_log_step_count_steps': 100, '_task_type': 'worker', '_keep_checkpoint_every_n_hours': 10000, '_model_dir': '/tmp/tmpt4t7ejlj', '_master': '', '_cluster_spec': <tensorflow.python.training.server_lib.ClusterSpec object at 0x7f0fcadfcfd0>, '_tf_random_seed': None, '_task_id': 0, '_num_ps_replicas': 0, '_service': None, '_save_checkpoints_steps': None}\n",
      "INFO:tensorflow:Create CheckpointSaverHook.\n",
      "INFO:tensorflow:Saving checkpoints for 1 into /tmp/tmpt4t7ejlj/model.ckpt.\n",
      "INFO:tensorflow:loss = 962.346, step = 1\n",
      "INFO:tensorflow:global_step/sec: 36.2077\n",
      "INFO:tensorflow:loss = 92.541, step = 101 (2.764 sec)\n",
      "INFO:tensorflow:global_step/sec: 29.0931\n",
      "INFO:tensorflow:loss = 69.2851, step = 201 (3.437 sec)\n",
      "INFO:tensorflow:global_step/sec: 30.6296\n",
      "INFO:tensorflow:loss = 69.2555, step = 301 (3.264 sec)\n",
      "INFO:tensorflow:global_step/sec: 30.9556\n",
      "INFO:tensorflow:loss = 68.9467, step = 401 (3.233 sec)\n",
      "INFO:tensorflow:global_step/sec: 31.2378\n",
      "INFO:tensorflow:loss = 68.6051, step = 501 (3.200 sec)\n",
      "INFO:tensorflow:global_step/sec: 31.7093\n",
      "INFO:tensorflow:loss = 67.8419, step = 601 (3.155 sec)\n",
      "INFO:tensorflow:global_step/sec: 31.8209\n",
      "INFO:tensorflow:loss = 65.8939, step = 701 (3.142 sec)\n",
      "INFO:tensorflow:global_step/sec: 32.3539\n",
      "INFO:tensorflow:loss = 67.8586, step = 801 (3.090 sec)\n",
      "INFO:tensorflow:global_step/sec: 32.2266\n",
      "INFO:tensorflow:loss = 66.9274, step = 901 (3.104 sec)\n",
      "INFO:tensorflow:global_step/sec: 36.0029\n",
      "INFO:tensorflow:loss = 64.5746, step = 1001 (2.777 sec)\n",
      "INFO:tensorflow:global_step/sec: 34.2667\n",
      "INFO:tensorflow:loss = 63.7848, step = 1101 (2.917 sec)\n",
      "INFO:tensorflow:global_step/sec: 32.748\n",
      "INFO:tensorflow:loss = 64.7622, step = 1201 (3.055 sec)\n",
      "INFO:tensorflow:global_step/sec: 49.5156\n",
      "INFO:tensorflow:loss = 71.451, step = 1301 (2.020 sec)\n",
      "INFO:tensorflow:global_step/sec: 33.9341\n",
      "INFO:tensorflow:loss = 66.4643, step = 1401 (2.946 sec)\n",
      "INFO:tensorflow:global_step/sec: 32.9463\n",
      "INFO:tensorflow:loss = 67.8157, step = 1501 (3.035 sec)\n",
      "INFO:tensorflow:global_step/sec: 34.7399\n",
      "INFO:tensorflow:loss = 62.904, step = 1601 (2.878 sec)\n",
      "INFO:tensorflow:global_step/sec: 34.2697\n",
      "INFO:tensorflow:loss = 62.1242, step = 1701 (2.918 sec)\n",
      "INFO:tensorflow:global_step/sec: 33.6623\n",
      "INFO:tensorflow:loss = 66.8596, step = 1801 (2.972 sec)\n",
      "INFO:tensorflow:global_step/sec: 35.1202\n",
      "INFO:tensorflow:loss = 62.9621, step = 1901 (2.846 sec)\n",
      "INFO:tensorflow:global_step/sec: 34.0489\n",
      "INFO:tensorflow:loss = 63.1834, step = 2001 (2.937 sec)\n",
      "INFO:tensorflow:global_step/sec: 36.202\n",
      "INFO:tensorflow:loss = 64.9112, step = 2101 (2.763 sec)\n",
      "INFO:tensorflow:global_step/sec: 35.084\n",
      "INFO:tensorflow:loss = 62.8978, step = 2201 (2.855 sec)\n",
      "INFO:tensorflow:global_step/sec: 33.0726\n",
      "INFO:tensorflow:loss = 62.0461, step = 2301 (3.018 sec)\n",
      "INFO:tensorflow:global_step/sec: 34.6641\n",
      "INFO:tensorflow:loss = 62.8009, step = 2401 (2.886 sec)\n",
      "INFO:tensorflow:global_step/sec: 34.8391\n",
      "INFO:tensorflow:loss = 60.6194, step = 2501 (2.870 sec)\n",
      "INFO:tensorflow:global_step/sec: 48.8707\n",
      "INFO:tensorflow:loss = 61.2702, step = 2601 (2.046 sec)\n",
      "INFO:tensorflow:global_step/sec: 33.538\n",
      "INFO:tensorflow:loss = 59.197, step = 2701 (2.982 sec)\n",
      "INFO:tensorflow:global_step/sec: 33.4593\n",
      "INFO:tensorflow:loss = 59.66, step = 2801 (2.988 sec)\n",
      "INFO:tensorflow:global_step/sec: 33.9509\n",
      "INFO:tensorflow:loss = 58.1409, step = 2901 (2.946 sec)\n",
      "INFO:tensorflow:global_step/sec: 34.8262\n",
      "INFO:tensorflow:loss = 56.591, step = 3001 (2.871 sec)\n",
      "INFO:tensorflow:global_step/sec: 33.7938\n",
      "INFO:tensorflow:loss = 61.614, step = 3101 (2.960 sec)\n",
      "INFO:tensorflow:global_step/sec: 34.3903\n",
      "INFO:tensorflow:loss = 62.582, step = 3201 (2.907 sec)\n",
      "INFO:tensorflow:global_step/sec: 33.5285\n",
      "INFO:tensorflow:loss = 57.5405, step = 3301 (2.982 sec)\n",
      "INFO:tensorflow:global_step/sec: 33.1008\n",
      "INFO:tensorflow:loss = 52.1977, step = 3401 (3.021 sec)\n",
      "INFO:tensorflow:global_step/sec: 33.3413\n",
      "INFO:tensorflow:loss = 51.5514, step = 3501 (2.999 sec)\n",
      "INFO:tensorflow:global_step/sec: 32.9576\n",
      "INFO:tensorflow:loss = 63.183, step = 3601 (3.034 sec)\n",
      "INFO:tensorflow:global_step/sec: 36.7633\n",
      "INFO:tensorflow:loss = 57.3441, step = 3701 (2.720 sec)\n",
      "INFO:tensorflow:global_step/sec: 33.9782\n",
      "INFO:tensorflow:loss = 50.4732, step = 3801 (2.943 sec)\n",
      "INFO:tensorflow:global_step/sec: 52.0671\n",
      "INFO:tensorflow:loss = 53.0023, step = 3901 (1.921 sec)\n",
      "INFO:tensorflow:global_step/sec: 36.3105\n",
      "INFO:tensorflow:loss = 50.8725, step = 4001 (2.754 sec)\n",
      "INFO:tensorflow:global_step/sec: 36.5322\n",
      "INFO:tensorflow:loss = 51.6172, step = 4101 (2.738 sec)\n",
      "INFO:tensorflow:global_step/sec: 36.4285\n",
      "INFO:tensorflow:loss = 52.5899, step = 4201 (2.744 sec)\n",
      "INFO:tensorflow:global_step/sec: 33.9581\n",
      "INFO:tensorflow:loss = 56.6926, step = 4301 (2.945 sec)\n",
      "INFO:tensorflow:global_step/sec: 33.8356\n",
      "INFO:tensorflow:loss = 46.6519, step = 4401 (2.955 sec)\n",
      "INFO:tensorflow:global_step/sec: 32.6615\n",
      "INFO:tensorflow:loss = 49.6104, step = 4501 (3.061 sec)\n",
      "INFO:tensorflow:global_step/sec: 34.6502\n",
      "INFO:tensorflow:loss = 51.0375, step = 4601 (2.886 sec)\n",
      "INFO:tensorflow:global_step/sec: 33.8379\n",
      "INFO:tensorflow:loss = 54.0571, step = 4701 (2.955 sec)\n",
      "INFO:tensorflow:global_step/sec: 33.7438\n",
      "INFO:tensorflow:loss = 54.9593, step = 4801 (2.963 sec)\n",
      "INFO:tensorflow:global_step/sec: 33.7435\n",
      "INFO:tensorflow:loss = 57.4636, step = 4901 (2.964 sec)\n",
      "INFO:tensorflow:global_step/sec: 33.1575\n",
      "INFO:tensorflow:loss = 48.6195, step = 5001 (3.015 sec)\n",
      "INFO:tensorflow:global_step/sec: 37.3891\n",
      "INFO:tensorflow:loss = 50.1833, step = 5101 (2.675 sec)\n",
      "INFO:tensorflow:global_step/sec: 54.29\n",
      "INFO:tensorflow:loss = 47.1456, step = 5201 (1.842 sec)\n",
      "INFO:tensorflow:global_step/sec: 36.1943\n",
      "INFO:tensorflow:loss = 51.5938, step = 5301 (2.766 sec)\n",
      "INFO:tensorflow:global_step/sec: 36.342\n",
      "INFO:tensorflow:loss = 45.7984, step = 5401 (2.748 sec)\n",
      "INFO:tensorflow:global_step/sec: 35.6121\n",
      "INFO:tensorflow:loss = 40.1098, step = 5501 (2.808 sec)\n",
      "INFO:tensorflow:global_step/sec: 33.1134\n",
      "INFO:tensorflow:loss = 44.603, step = 5601 (3.019 sec)\n",
      "INFO:tensorflow:global_step/sec: 34.9043\n",
      "INFO:tensorflow:loss = 43.7151, step = 5701 (2.865 sec)\n",
      "INFO:tensorflow:global_step/sec: 34.5698\n",
      "INFO:tensorflow:loss = 50.3601, step = 5801 (2.893 sec)\n",
      "INFO:tensorflow:global_step/sec: 32.8038\n",
      "INFO:tensorflow:loss = 45.8009, step = 5901 (3.048 sec)\n",
      "INFO:tensorflow:global_step/sec: 34.7007\n",
      "INFO:tensorflow:loss = 46.5328, step = 6001 (2.882 sec)\n",
      "INFO:tensorflow:global_step/sec: 37.0858\n",
      "INFO:tensorflow:loss = 45.322, step = 6101 (2.697 sec)\n",
      "INFO:tensorflow:global_step/sec: 36.9143\n",
      "INFO:tensorflow:loss = 41.3968, step = 6201 (2.709 sec)\n",
      "INFO:tensorflow:global_step/sec: 35.6176\n",
      "INFO:tensorflow:loss = 49.5821, step = 6301 (2.807 sec)\n",
      "INFO:tensorflow:global_step/sec: 36.2617\n",
      "INFO:tensorflow:loss = 47.0633, step = 6401 (2.757 sec)\n",
      "INFO:tensorflow:global_step/sec: 55.586\n",
      "INFO:tensorflow:loss = 48.9226, step = 6501 (1.799 sec)\n",
      "INFO:tensorflow:global_step/sec: 33.4929\n",
      "INFO:tensorflow:loss = 41.7498, step = 6601 (2.986 sec)\n",
      "INFO:tensorflow:global_step/sec: 30.9328\n",
      "INFO:tensorflow:loss = 39.8105, step = 6701 (3.232 sec)\n",
      "INFO:tensorflow:global_step/sec: 28.0514\n",
      "INFO:tensorflow:loss = 45.1755, step = 6801 (3.565 sec)\n",
      "INFO:tensorflow:global_step/sec: 32.4312\n",
      "INFO:tensorflow:loss = 47.5886, step = 6901 (3.087 sec)\n",
      "INFO:tensorflow:global_step/sec: 31.9066\n",
      "INFO:tensorflow:loss = 43.1902, step = 7001 (3.130 sec)\n",
      "INFO:tensorflow:global_step/sec: 32.01\n",
      "INFO:tensorflow:loss = 44.5535, step = 7101 (3.124 sec)\n",
      "INFO:tensorflow:global_step/sec: 32.3303\n",
      "INFO:tensorflow:loss = 44.1163, step = 7201 (3.094 sec)\n",
      "INFO:tensorflow:global_step/sec: 35.0804\n",
      "INFO:tensorflow:loss = 42.1424, step = 7301 (2.850 sec)\n",
      "INFO:tensorflow:global_step/sec: 35.2468\n",
      "INFO:tensorflow:loss = 41.1632, step = 7401 (2.838 sec)\n",
      "INFO:tensorflow:global_step/sec: 34.3871\n",
      "INFO:tensorflow:loss = 44.1139, step = 7501 (2.907 sec)\n",
      "INFO:tensorflow:global_step/sec: 33.1848\n",
      "INFO:tensorflow:loss = 38.4118, step = 7601 (3.013 sec)\n",
      "INFO:tensorflow:global_step/sec: 46.745\n"
     ]
    },
    {
     "name": "stdout",
     "output_type": "stream",
     "text": [
      "INFO:tensorflow:loss = 43.3672, step = 7701 (2.139 sec)\n",
      "INFO:tensorflow:global_step/sec: 36.9606\n",
      "INFO:tensorflow:loss = 38.9013, step = 7801 (2.705 sec)\n",
      "INFO:tensorflow:global_step/sec: 36.4459\n",
      "INFO:tensorflow:loss = 46.0301, step = 7901 (2.745 sec)\n",
      "INFO:tensorflow:global_step/sec: 35.0874\n",
      "INFO:tensorflow:loss = 39.7088, step = 8001 (2.849 sec)\n",
      "INFO:tensorflow:global_step/sec: 32.3281\n",
      "INFO:tensorflow:loss = 41.4563, step = 8101 (3.094 sec)\n",
      "INFO:tensorflow:global_step/sec: 34.2753\n",
      "INFO:tensorflow:loss = 37.8043, step = 8201 (2.919 sec)\n",
      "INFO:tensorflow:global_step/sec: 32.3568\n",
      "INFO:tensorflow:loss = 36.3126, step = 8301 (3.089 sec)\n",
      "INFO:tensorflow:global_step/sec: 32.4247\n",
      "INFO:tensorflow:loss = 43.286, step = 8401 (3.084 sec)\n",
      "INFO:tensorflow:global_step/sec: 38.3893\n",
      "INFO:tensorflow:loss = 37.8013, step = 8501 (2.605 sec)\n",
      "INFO:tensorflow:global_step/sec: 35.7913\n",
      "INFO:tensorflow:loss = 34.5845, step = 8601 (2.794 sec)\n",
      "INFO:tensorflow:global_step/sec: 33.1554\n",
      "INFO:tensorflow:loss = 39.0609, step = 8701 (3.016 sec)\n",
      "INFO:tensorflow:global_step/sec: 34.5535\n",
      "INFO:tensorflow:loss = 42.2926, step = 8801 (2.894 sec)\n",
      "INFO:tensorflow:global_step/sec: 33.4988\n",
      "INFO:tensorflow:loss = 45.9037, step = 8901 (2.986 sec)\n",
      "INFO:tensorflow:global_step/sec: 44.9094\n",
      "INFO:tensorflow:loss = 49.2823, step = 9001 (2.227 sec)\n",
      "INFO:tensorflow:global_step/sec: 35.245\n",
      "INFO:tensorflow:loss = 32.3933, step = 9101 (2.837 sec)\n",
      "INFO:tensorflow:global_step/sec: 35.7762\n",
      "INFO:tensorflow:loss = 38.1782, step = 9201 (2.795 sec)\n",
      "INFO:tensorflow:global_step/sec: 36.0847\n",
      "INFO:tensorflow:loss = 35.7599, step = 9301 (2.771 sec)\n",
      "INFO:tensorflow:global_step/sec: 33.287\n",
      "INFO:tensorflow:loss = 33.1062, step = 9401 (3.004 sec)\n",
      "INFO:tensorflow:global_step/sec: 33.1403\n",
      "INFO:tensorflow:loss = 45.72, step = 9501 (3.017 sec)\n",
      "INFO:tensorflow:global_step/sec: 33.6909\n",
      "INFO:tensorflow:loss = 36.1372, step = 9601 (2.969 sec)\n",
      "INFO:tensorflow:global_step/sec: 34.2631\n",
      "INFO:tensorflow:loss = 35.251, step = 9701 (2.918 sec)\n",
      "INFO:tensorflow:global_step/sec: 35.1534\n",
      "INFO:tensorflow:loss = 35.7923, step = 9801 (2.844 sec)\n",
      "INFO:tensorflow:global_step/sec: 34.7643\n",
      "INFO:tensorflow:loss = 38.3646, step = 9901 (2.877 sec)\n",
      "INFO:tensorflow:Saving checkpoints for 10000 into /tmp/tmpt4t7ejlj/model.ckpt.\n",
      "INFO:tensorflow:Loss for final step: 34.8287.\n",
      "WARNING:tensorflow:Casting <dtype: 'float32'> labels to bool.\n",
      "WARNING:tensorflow:Casting <dtype: 'float32'> labels to bool.\n",
      "INFO:tensorflow:Starting evaluation at 2018-03-08-06:15:13\n",
      "INFO:tensorflow:Restoring parameters from /tmp/tmpt4t7ejlj/model.ckpt-10000\n",
      "INFO:tensorflow:Finished evaluation at 2018-03-08-06:15:14\n",
      "INFO:tensorflow:Saving dict for global step 10000: accuracy = 0.557214, accuracy_baseline = 0.553068, auc = 0.524996, auc_precision_recall = 0.507889, average_loss = 1.32464, global_step = 10000, label/mean = 0.446932, loss = 122.886, prediction/mean = 0.445489\n",
      "\n",
      "Test set accuracy: 0.557\n",
      "\n"
     ]
    }
   ],
   "source": [
    "one_run(trainset['charges'], get_labels(trainset), testset['charges'], get_labels(testset))"
   ]
  },
  {
   "cell_type": "markdown",
   "metadata": {},
   "source": [
    "## Use only events with max charges > 6"
   ]
  },
  {
   "cell_type": "markdown",
   "metadata": {},
   "source": [
    "## Use events in a certain band with max charges > 6"
   ]
  },
  {
   "cell_type": "markdown",
   "metadata": {},
   "source": [
    "## Use events within a certain energy range "
   ]
  },
  {
   "cell_type": "markdown",
   "metadata": {},
   "source": [
    "## Use only events within certain energy range, azimuth/zenith band"
   ]
  },
  {
   "cell_type": "markdown",
   "metadata": {},
   "source": [
    "## Give all the metadata (energy, core, direction)"
   ]
  },
  {
   "cell_type": "markdown",
   "metadata": {},
   "source": [
    "## Give energy, direction"
   ]
  }
 ],
 "metadata": {
  "kernelspec": {
   "display_name": "Python 3",
   "language": "python",
   "name": "python3"
  },
  "language_info": {
   "codemirror_mode": {
    "name": "ipython",
    "version": 3
   },
   "file_extension": ".py",
   "mimetype": "text/x-python",
   "name": "python",
   "nbconvert_exporter": "python",
   "pygments_lexer": "ipython3",
   "version": "3.4.3"
  }
 },
 "nbformat": 4,
 "nbformat_minor": 2
}
