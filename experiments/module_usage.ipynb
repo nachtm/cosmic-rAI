{
 "cells": [
  {
   "cell_type": "markdown",
   "metadata": {},
   "source": [
    "# Data Exploration: Module Style"
   ]
  },
  {
   "cell_type": "code",
   "execution_count": 13,
   "metadata": {},
   "outputs": [],
   "source": [
    "import sys\n",
    "sys.path.append(\"../\")\n",
    "\n",
    "import numpy as np\n",
    "import math\n",
    "from cosmic_rAI import data_prep"
   ]
  },
  {
   "cell_type": "markdown",
   "metadata": {},
   "source": [
    "## Load and Prep Data"
   ]
  },
  {
   "cell_type": "code",
   "execution_count": 14,
   "metadata": {},
   "outputs": [],
   "source": [
    "mat1 = np.load('../data/sim_12360_00.npy').item()  # protons\n",
    "mat2 = np.load('../data/sim_12362_00.npy').item()  # iron"
   ]
  },
  {
   "cell_type": "code",
   "execution_count": 15,
   "metadata": {},
   "outputs": [
    {
     "data": {
      "text/plain": [
       "dict_keys(['Charges', 'Energy', 'File_info', 'dir_reco', 'core_MC', 'Gain', 'core_reco', 'Position', 'dir_MC', 'Fit_status', 'Composition'])"
      ]
     },
     "execution_count": 15,
     "metadata": {},
     "output_type": "execute_result"
    }
   ],
   "source": [
    "mat1.keys()"
   ]
  },
  {
   "cell_type": "markdown",
   "metadata": {},
   "source": [
    "### Cleanup, Gain Differentiate"
   ]
  },
  {
   "cell_type": "code",
   "execution_count": 16,
   "metadata": {},
   "outputs": [],
   "source": [
    "# combine expanded attributes, like MC and Reco\n",
    "data_prep.cleanup((mat1, mat2))"
   ]
  },
  {
   "cell_type": "code",
   "execution_count": 17,
   "metadata": {},
   "outputs": [],
   "source": [
    "# split into hgain and lgain datasets\n",
    "hgain, lgain, all_sensors = data_prep.gain_differentiate(mat1)"
   ]
  },
  {
   "cell_type": "code",
   "execution_count": 18,
   "metadata": {},
   "outputs": [],
   "source": [
    "# Construct dictionary that goes name->column index\n",
    "hgain_indices = data_prep.get_index_dict(hgain)\n",
    "lgain_indices = data_prep.get_index_dict(lgain)\n",
    "all_indices = data_prep.get_index_dict(all_sensors)"
   ]
  },
  {
   "cell_type": "code",
   "execution_count": 19,
   "metadata": {},
   "outputs": [],
   "source": [
    "# Make matrix, using indices created above\n",
    "hgain_events = data_prep.gen_matrix(mat1, mat2, hgain_indices)\n",
    "lgain_events = data_prep.gen_matrix(mat1, mat2, lgain_indices)"
   ]
  },
  {
   "cell_type": "code",
   "execution_count": 20,
   "metadata": {},
   "outputs": [
    {
     "data": {
      "text/plain": [
       "(31620, 163)"
      ]
     },
     "execution_count": 20,
     "metadata": {},
     "output_type": "execute_result"
    }
   ],
   "source": [
    "hgain_events.shape"
   ]
  },
  {
   "cell_type": "markdown",
   "metadata": {},
   "source": [
    "### Split high-gain into training/test set"
   ]
  },
  {
   "cell_type": "code",
   "execution_count": 34,
   "metadata": {},
   "outputs": [],
   "source": [
    "# Split into testing and training sets\n",
    "trainset, testset = data_prep.split_train(hgain_events)\n",
    "np.save('../data_processed/small_train_high_low.npy', trainset)\n",
    "np.save('../data_processed/small_test_high_low.npy', testset)"
   ]
  },
  {
   "cell_type": "code",
   "execution_count": 35,
   "metadata": {},
   "outputs": [],
   "source": [
    "# Add azimuth, zenith features to dataset\n",
    "\n",
    "all_indices_dir = data_prep.get_index_dict(all_sensors, direction_data=True)\n",
    "all_events_direction = data_prep.gen_matrix(mat1, mat2, all_indices_dir, direction=True)\n",
    "trainset, testset = data_prep.split_train(all_events_direction)\n",
    "\n",
    "np.save('../data_processed/direction_train.npy',trainset)\n",
    "np.save('../data_processed/direction_test.npy', testset)"
   ]
  },
  {
   "cell_type": "code",
   "execution_count": null,
   "metadata": {},
   "outputs": [],
   "source": []
  }
 ],
 "metadata": {
  "kernelspec": {
   "display_name": "Python 3",
   "language": "python",
   "name": "python3"
  },
  "language_info": {
   "codemirror_mode": {
    "name": "ipython",
    "version": 3
   },
   "file_extension": ".py",
   "mimetype": "text/x-python",
   "name": "python",
   "nbconvert_exporter": "python",
   "pygments_lexer": "ipython3",
   "version": "3.6.4"
  }
 },
 "nbformat": 4,
 "nbformat_minor": 2
}
