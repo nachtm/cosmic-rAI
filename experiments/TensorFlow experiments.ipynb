{
 "cells": [
  {
   "cell_type": "code",
   "execution_count": 66,
   "metadata": {
    "collapsed": true
   },
   "outputs": [],
   "source": [
    "import tensorflow as tf\n",
    "import pandas as pd\n",
    "import numpy as np"
   ]
  },
  {
   "cell_type": "code",
   "execution_count": 67,
   "metadata": {
    "collapsed": true
   },
   "outputs": [],
   "source": [
    "# trainset = np.load('small_train_high_low.npy')\n",
    "# testset = np.load('small_test_high_low.npy')\n",
    "trainset = np.load('direction_train.npy')\n",
    "testset = np.load('direction_test.npy')"
   ]
  },
  {
   "cell_type": "code",
   "execution_count": 68,
   "metadata": {},
   "outputs": [
    {
     "data": {
      "text/plain": [
       "array([[0.        , 0.        , 0.        , ..., 0.34090886, 5.09187961,\n",
       "        0.        ],\n",
       "       [1.45853341, 0.        , 1.68307078, ..., 0.28291154, 6.26265648,\n",
       "        0.        ],\n",
       "       [0.        , 0.        , 0.79696012, ..., 0.4340452 , 0.79006895,\n",
       "        0.        ],\n",
       "       ...,\n",
       "       [1.31649435, 0.        , 0.        , ..., 0.72663784, 0.35276732,\n",
       "        0.        ],\n",
       "       [0.        , 0.        , 0.        , ..., 0.92905623, 4.2887241 ,\n",
       "        0.        ],\n",
       "       [0.26208884, 0.        , 0.        , ..., 0.43758243, 1.18129882,\n",
       "        0.        ]])"
      ]
     },
     "execution_count": 68,
     "metadata": {},
     "output_type": "execute_result"
    }
   ],
   "source": [
    "trainset[trainset[:,-1]==0]"
   ]
  },
  {
   "cell_type": "code",
   "execution_count": 69,
   "metadata": {},
   "outputs": [
    {
     "data": {
      "text/plain": [
       "False"
      ]
     },
     "execution_count": 69,
     "metadata": {},
     "output_type": "execute_result"
    }
   ],
   "source": [
    "np.any(np.isnan(trainset))"
   ]
  },
  {
   "cell_type": "code",
   "execution_count": 70,
   "metadata": {
    "collapsed": true
   },
   "outputs": [],
   "source": [
    "def dict_from_array(arr):\n",
    "    d = {}\n",
    "    for row in range(arr.shape[1]):\n",
    "        d[str(row)] = arr[:,row]\n",
    "    return d\n",
    "\n",
    "def no_zeros(arr):\n",
    "    arr[arr==0] = 1e-8\n",
    "    return arr"
   ]
  },
  {
   "cell_type": "code",
   "execution_count": 71,
   "metadata": {
    "collapsed": true
   },
   "outputs": [],
   "source": [
    "#Taken from https://www.tensorflow.org/get_started/datasets_quickstart\n",
    "def train_input_fn(features, labels, batch_size):\n",
    "    \"\"\"An input function for training\"\"\"\n",
    "    # Convert the inputs to a Dataset.\n",
    "    dataset = tf.data.Dataset.from_tensor_slices((dict(features), labels))\n",
    "\n",
    "    # Shuffle, repeat, and batch the examples.\n",
    "    dataset = dataset.shuffle(buffer_size=30000).repeat(count=None).batch(batch_size)\n",
    "\n",
    "    # Build the Iterator, and return the read end of the pipeline.\n",
    "    return dataset.make_one_shot_iterator().get_next()\n",
    "\n",
    "def eval_input_fn(features, labels=None, batch_size=None):\n",
    "    \"\"\"An input function for evaluation or prediction\"\"\"\n",
    "    if labels is None:\n",
    "        # No labels, use only features.\n",
    "        inputs = features\n",
    "    else:\n",
    "        inputs = (features, labels)\n",
    "\n",
    "    # Convert inputs to a tf.dataset object.\n",
    "    dataset = tf.data.Dataset.from_tensor_slices(inputs)\n",
    "\n",
    "    # Batch the examples\n",
    "    assert batch_size is not None, \"batch_size must not be None\"\n",
    "    dataset = dataset.batch(batch_size)\n",
    "\n",
    "    # Return the read end of the pipeline.\n",
    "    return dataset.make_one_shot_iterator().get_next()\n"
   ]
  },
  {
   "cell_type": "code",
   "execution_count": 72,
   "metadata": {},
   "outputs": [
    {
     "name": "stdout",
     "output_type": "stream",
     "text": [
      "28458\n"
     ]
    }
   ],
   "source": [
    "train_x = dict_from_array(no_zeros(trainset[:,:-1]))\n",
    "train_y = trainset[:,-1]\n",
    "test_x = dict_from_array(no_zeros(testset[:,:-1]))\n",
    "test_y = testset[:,-1]\n",
    "print(len(train_y))"
   ]
  },
  {
   "cell_type": "code",
   "execution_count": 73,
   "metadata": {
    "collapsed": true
   },
   "outputs": [],
   "source": [
    "feature_columns = []\n",
    "for i in range(len(train_x)):\n",
    "    feature_columns.append(tf.feature_column.numeric_column(key=str(i)))"
   ]
  },
  {
   "cell_type": "code",
   "execution_count": 74,
   "metadata": {},
   "outputs": [
    {
     "data": {
      "text/plain": [
       "325"
      ]
     },
     "execution_count": 74,
     "metadata": {},
     "output_type": "execute_result"
    }
   ],
   "source": [
    "len(feature_columns)"
   ]
  },
  {
   "cell_type": "code",
   "execution_count": 75,
   "metadata": {},
   "outputs": [
    {
     "name": "stdout",
     "output_type": "stream",
     "text": [
      "INFO:tensorflow:Using default config.\n",
      "WARNING:tensorflow:Using temporary folder as model directory: C:\\Users\\Micah\\AppData\\Local\\Temp\\tmphxke3cfj\n",
      "INFO:tensorflow:Using config: {'_model_dir': 'C:\\\\Users\\\\Micah\\\\AppData\\\\Local\\\\Temp\\\\tmphxke3cfj', '_tf_random_seed': None, '_save_summary_steps': 100, '_save_checkpoints_steps': None, '_save_checkpoints_secs': 600, '_session_config': None, '_keep_checkpoint_max': 5, '_keep_checkpoint_every_n_hours': 10000, '_log_step_count_steps': 100, '_service': None, '_cluster_spec': <tensorflow.python.training.server_lib.ClusterSpec object at 0x0000023ABA5EA9B0>, '_task_type': 'worker', '_task_id': 0, '_master': '', '_is_chief': True, '_num_ps_replicas': 0, '_num_worker_replicas': 1}\n"
     ]
    }
   ],
   "source": [
    "classifier = tf.estimator.DNNClassifier(\n",
    "    feature_columns = feature_columns,\n",
    "    hidden_units = [81, 40],\n",
    "    n_classes = 2)"
   ]
  },
  {
   "cell_type": "code",
   "execution_count": 76,
   "metadata": {
    "scrolled": true
   },
   "outputs": [
    {
     "name": "stdout",
     "output_type": "stream",
     "text": [
      "INFO:tensorflow:Create CheckpointSaverHook.\n",
      "INFO:tensorflow:Saving checkpoints for 1 into C:\\Users\\Micah\\AppData\\Local\\Temp\\tmphxke3cfj\\model.ckpt.\n",
      "INFO:tensorflow:loss = 583.782, step = 1\n",
      "INFO:tensorflow:global_step/sec: 16.0202\n",
      "INFO:tensorflow:loss = 71.13295, step = 101 (6.242 sec)\n",
      "INFO:tensorflow:global_step/sec: 40.6726\n",
      "INFO:tensorflow:loss = 68.96853, step = 201 (2.602 sec)\n",
      "INFO:tensorflow:global_step/sec: 6.71837\n",
      "INFO:tensorflow:loss = 68.81692, step = 301 (14.742 sec)\n",
      "INFO:tensorflow:global_step/sec: 50.8221\n",
      "INFO:tensorflow:loss = 68.82596, step = 401 (1.967 sec)\n",
      "INFO:tensorflow:global_step/sec: 51.4595\n",
      "INFO:tensorflow:loss = 69.02353, step = 501 (1.944 sec)\n",
      "INFO:tensorflow:global_step/sec: 6.93943\n",
      "INFO:tensorflow:loss = 69.58725, step = 601 (14.410 sec)\n",
      "INFO:tensorflow:global_step/sec: 47.2524\n",
      "INFO:tensorflow:loss = 68.987656, step = 701 (2.116 sec)\n",
      "INFO:tensorflow:global_step/sec: 47.9127\n",
      "INFO:tensorflow:loss = 69.58095, step = 801 (2.087 sec)\n",
      "INFO:tensorflow:global_step/sec: 7.07685\n",
      "INFO:tensorflow:loss = 68.97853, step = 901 (14.130 sec)\n",
      "INFO:tensorflow:global_step/sec: 47.4071\n",
      "INFO:tensorflow:loss = 68.74092, step = 1001 (2.109 sec)\n",
      "INFO:tensorflow:global_step/sec: 40.2157\n",
      "INFO:tensorflow:loss = 69.4206, step = 1101 (2.488 sec)\n",
      "INFO:tensorflow:global_step/sec: 6.77311\n",
      "INFO:tensorflow:loss = 69.90604, step = 1201 (14.763 sec)\n",
      "INFO:tensorflow:global_step/sec: 50.6277\n",
      "INFO:tensorflow:loss = 69.90716, step = 1301 (1.976 sec)\n",
      "INFO:tensorflow:global_step/sec: 30.38\n",
      "INFO:tensorflow:loss = 69.552155, step = 1401 (3.292 sec)\n",
      "INFO:tensorflow:global_step/sec: 7.63744\n",
      "INFO:tensorflow:loss = 69.110405, step = 1501 (13.093 sec)\n",
      "INFO:tensorflow:global_step/sec: 51.1588\n",
      "INFO:tensorflow:loss = 69.286575, step = 1601 (1.954 sec)\n",
      "INFO:tensorflow:global_step/sec: 20.4332\n",
      "INFO:tensorflow:loss = 69.28956, step = 1701 (4.895 sec)\n",
      "INFO:tensorflow:global_step/sec: 8.35288\n",
      "INFO:tensorflow:loss = 69.945465, step = 1801 (11.972 sec)\n",
      "INFO:tensorflow:global_step/sec: 52.6814\n",
      "INFO:tensorflow:loss = 69.32144, step = 1901 (1.899 sec)\n",
      "INFO:tensorflow:global_step/sec: 6.68517\n",
      "INFO:tensorflow:loss = 68.52305, step = 2001 (15.254 sec)\n",
      "INFO:tensorflow:global_step/sec: 39.4866\n",
      "INFO:tensorflow:loss = 69.44745, step = 2101 (2.236 sec)\n",
      "INFO:tensorflow:global_step/sec: 45.4362\n",
      "INFO:tensorflow:loss = 68.669525, step = 2201 (2.202 sec)\n",
      "INFO:tensorflow:global_step/sec: 6.908\n",
      "INFO:tensorflow:loss = 68.309235, step = 2301 (14.476 sec)\n",
      "INFO:tensorflow:global_step/sec: 49.1578\n",
      "INFO:tensorflow:loss = 68.3703, step = 2401 (2.033 sec)\n",
      "INFO:tensorflow:global_step/sec: 51.2625\n",
      "INFO:tensorflow:loss = 69.874275, step = 2501 (1.951 sec)\n",
      "INFO:tensorflow:global_step/sec: 6.83063\n",
      "INFO:tensorflow:loss = 69.6412, step = 2601 (14.641 sec)\n",
      "INFO:tensorflow:global_step/sec: 48.6248\n",
      "INFO:tensorflow:loss = 67.71854, step = 2701 (2.057 sec)\n",
      "INFO:tensorflow:global_step/sec: 49.1794\n",
      "INFO:tensorflow:loss = 69.12334, step = 2801 (2.032 sec)\n",
      "INFO:tensorflow:global_step/sec: 6.64169\n",
      "INFO:tensorflow:loss = 68.16344, step = 2901 (15.056 sec)\n",
      "INFO:tensorflow:global_step/sec: 51.5324\n",
      "INFO:tensorflow:loss = 68.892166, step = 3001 (1.942 sec)\n",
      "INFO:tensorflow:global_step/sec: 35.7681\n",
      "INFO:tensorflow:loss = 68.37614, step = 3101 (2.795 sec)\n",
      "INFO:tensorflow:global_step/sec: 6.3349\n",
      "INFO:tensorflow:loss = 65.3965, step = 3201 (15.786 sec)\n",
      "INFO:tensorflow:global_step/sec: 48.9837\n",
      "INFO:tensorflow:loss = 69.81752, step = 3301 (2.042 sec)\n",
      "INFO:tensorflow:global_step/sec: 23.2932\n",
      "INFO:tensorflow:loss = 68.55355, step = 3401 (4.293 sec)\n",
      "INFO:tensorflow:global_step/sec: 7.29997\n",
      "INFO:tensorflow:loss = 66.580925, step = 3501 (13.698 sec)\n",
      "INFO:tensorflow:global_step/sec: 50.9949\n",
      "INFO:tensorflow:loss = 67.59799, step = 3601 (1.963 sec)\n",
      "INFO:tensorflow:global_step/sec: 6.27886\n",
      "INFO:tensorflow:loss = 67.815475, step = 3701 (15.925 sec)\n",
      "INFO:tensorflow:global_step/sec: 49.2706\n",
      "INFO:tensorflow:loss = 66.13522, step = 3801 (2.029 sec)\n",
      "INFO:tensorflow:global_step/sec: 50.7351\n",
      "INFO:tensorflow:loss = 67.69096, step = 3901 (1.970 sec)\n",
      "INFO:tensorflow:global_step/sec: 6.52163\n",
      "INFO:tensorflow:loss = 69.93899, step = 4001 (15.368 sec)\n",
      "INFO:tensorflow:global_step/sec: 48.2836\n",
      "INFO:tensorflow:loss = 68.552, step = 4101 (2.038 sec)\n",
      "INFO:tensorflow:global_step/sec: 50.7372\n",
      "INFO:tensorflow:loss = 67.2038, step = 4201 (1.970 sec)\n",
      "INFO:tensorflow:global_step/sec: 6.21535\n",
      "INFO:tensorflow:loss = 63.37872, step = 4301 (16.089 sec)\n",
      "INFO:tensorflow:global_step/sec: 49.4852\n",
      "INFO:tensorflow:loss = 66.0966, step = 4401 (2.022 sec)\n",
      "INFO:tensorflow:global_step/sec: 50.9169\n",
      "INFO:tensorflow:loss = 67.606964, step = 4501 (1.964 sec)\n",
      "INFO:tensorflow:global_step/sec: 6.19932\n",
      "INFO:tensorflow:loss = 68.11, step = 4601 (16.130 sec)\n",
      "INFO:tensorflow:global_step/sec: 49.5094\n",
      "INFO:tensorflow:loss = 69.33445, step = 4701 (2.020 sec)\n",
      "INFO:tensorflow:global_step/sec: 43.3526\n",
      "INFO:tensorflow:loss = 66.80705, step = 4801 (2.307 sec)\n",
      "INFO:tensorflow:global_step/sec: 6.77786\n",
      "INFO:tensorflow:loss = 66.598694, step = 4901 (14.754 sec)\n",
      "INFO:tensorflow:global_step/sec: 50.3138\n",
      "INFO:tensorflow:loss = 69.54914, step = 5001 (1.988 sec)\n",
      "INFO:tensorflow:global_step/sec: 29.3017\n",
      "INFO:tensorflow:loss = 69.59358, step = 5101 (3.413 sec)\n",
      "INFO:tensorflow:global_step/sec: 7.11142\n",
      "INFO:tensorflow:loss = 64.211, step = 5201 (14.063 sec)\n",
      "INFO:tensorflow:global_step/sec: 48.7592\n",
      "INFO:tensorflow:loss = 64.2834, step = 5301 (2.050 sec)\n",
      "INFO:tensorflow:global_step/sec: 19.7932\n",
      "INFO:tensorflow:loss = 67.95318, step = 5401 (5.053 sec)\n",
      "INFO:tensorflow:global_step/sec: 8.11866\n",
      "INFO:tensorflow:loss = 64.19034, step = 5501 (12.317 sec)\n",
      "INFO:tensorflow:global_step/sec: 43.1599\n",
      "INFO:tensorflow:loss = 65.31555, step = 5601 (2.318 sec)\n",
      "INFO:tensorflow:global_step/sec: 6.3314\n",
      "INFO:tensorflow:loss = 64.356476, step = 5701 (15.792 sec)\n",
      "INFO:tensorflow:global_step/sec: 46.5533\n",
      "INFO:tensorflow:loss = 65.35593, step = 5801 (2.150 sec)\n",
      "INFO:tensorflow:global_step/sec: 44.514\n",
      "INFO:tensorflow:loss = 62.865265, step = 5901 (2.547 sec)\n",
      "INFO:tensorflow:global_step/sec: 6.28937\n",
      "INFO:tensorflow:loss = 61.2863, step = 6001 (15.599 sec)\n",
      "INFO:tensorflow:global_step/sec: 45.2642\n",
      "INFO:tensorflow:loss = 65.64703, step = 6101 (2.208 sec)\n",
      "INFO:tensorflow:global_step/sec: 46.102\n",
      "INFO:tensorflow:loss = 65.89883, step = 6201 (2.169 sec)\n",
      "INFO:tensorflow:global_step/sec: 6.63249\n",
      "INFO:tensorflow:loss = 59.475357, step = 6301 (15.076 sec)\n",
      "INFO:tensorflow:global_step/sec: 50.1319\n",
      "INFO:tensorflow:loss = 63.2474, step = 6401 (1.995 sec)\n",
      "INFO:tensorflow:global_step/sec: 49.1278\n",
      "INFO:tensorflow:loss = 64.93245, step = 6501 (2.047 sec)\n",
      "INFO:tensorflow:global_step/sec: 6.40061\n",
      "INFO:tensorflow:loss = 64.94508, step = 6601 (15.613 sec)\n",
      "INFO:tensorflow:global_step/sec: 50.5111\n",
      "INFO:tensorflow:loss = 63.61632, step = 6701 (1.980 sec)\n",
      "INFO:tensorflow:global_step/sec: 36.885\n",
      "INFO:tensorflow:loss = 67.59778, step = 6801 (2.712 sec)\n",
      "INFO:tensorflow:global_step/sec: 6.67713\n",
      "INFO:tensorflow:loss = 65.08093, step = 6901 (14.975 sec)\n",
      "INFO:tensorflow:global_step/sec: 45.0652\n",
      "INFO:tensorflow:loss = 61.896793, step = 7001 (2.221 sec)\n",
      "INFO:tensorflow:global_step/sec: 22.4194\n",
      "INFO:tensorflow:loss = 63.022713, step = 7101 (4.458 sec)\n",
      "INFO:tensorflow:global_step/sec: 7.41725\n",
      "INFO:tensorflow:loss = 69.25807, step = 7201 (13.483 sec)\n",
      "INFO:tensorflow:global_step/sec: 49.6754\n",
      "INFO:tensorflow:loss = 64.643295, step = 7301 (2.014 sec)\n",
      "INFO:tensorflow:global_step/sec: 6.30445\n",
      "INFO:tensorflow:loss = 60.442062, step = 7401 (15.861 sec)\n",
      "INFO:tensorflow:global_step/sec: 48.9865\n",
      "INFO:tensorflow:loss = 63.42501, step = 7501 (2.041 sec)\n",
      "INFO:tensorflow:global_step/sec: 50.0112\n",
      "INFO:tensorflow:loss = 65.23628, step = 7601 (2.000 sec)\n",
      "INFO:tensorflow:global_step/sec: 6.541\n",
      "INFO:tensorflow:loss = 62.435284, step = 7701 (15.426 sec)\n",
      "INFO:tensorflow:global_step/sec: 47.0416\n",
      "INFO:tensorflow:loss = 66.43884, step = 7801 (1.988 sec)\n",
      "INFO:tensorflow:global_step/sec: 51.3505\n",
      "INFO:tensorflow:loss = 66.84065, step = 7901 (1.947 sec)\n",
      "INFO:tensorflow:global_step/sec: 6.3063\n",
      "INFO:tensorflow:loss = 62.09645, step = 8001 (15.857 sec)\n",
      "INFO:tensorflow:global_step/sec: 46.7637\n",
      "INFO:tensorflow:loss = 62.18817, step = 8101 (2.138 sec)\n",
      "INFO:tensorflow:global_step/sec: 45.5006\n",
      "INFO:tensorflow:loss = 61.260635, step = 8201 (2.198 sec)\n"
     ]
    },
    {
     "name": "stdout",
     "output_type": "stream",
     "text": [
      "INFO:tensorflow:global_step/sec: 6.29087\n",
      "INFO:tensorflow:loss = 62.86911, step = 8301 (15.899 sec)\n",
      "INFO:tensorflow:global_step/sec: 50.3598\n",
      "INFO:tensorflow:loss = 64.549324, step = 8401 (1.983 sec)\n",
      "INFO:tensorflow:global_step/sec: 44.0089\n",
      "INFO:tensorflow:loss = 61.9551, step = 8501 (2.274 sec)\n",
      "INFO:tensorflow:global_step/sec: 6.39962\n",
      "INFO:tensorflow:loss = 63.46341, step = 8601 (15.624 sec)\n",
      "INFO:tensorflow:global_step/sec: 45.2502\n",
      "INFO:tensorflow:loss = 67.76116, step = 8701 (2.210 sec)\n",
      "INFO:tensorflow:Saving checkpoints for 8747 into C:\\Users\\Micah\\AppData\\Local\\Temp\\tmphxke3cfj\\model.ckpt.\n",
      "INFO:tensorflow:global_step/sec: 7.92597\n",
      "INFO:tensorflow:loss = 61.91817, step = 8801 (12.616 sec)\n",
      "INFO:tensorflow:global_step/sec: 7.29163\n",
      "INFO:tensorflow:loss = 62.67992, step = 8901 (13.715 sec)\n",
      "INFO:tensorflow:global_step/sec: 44.7435\n",
      "INFO:tensorflow:loss = 64.38568, step = 9001 (2.234 sec)\n",
      "INFO:tensorflow:global_step/sec: 18.3508\n",
      "INFO:tensorflow:loss = 59.551403, step = 9101 (5.450 sec)\n",
      "INFO:tensorflow:global_step/sec: 8.09912\n",
      "INFO:tensorflow:loss = 63.844925, step = 9201 (12.346 sec)\n",
      "INFO:tensorflow:global_step/sec: 45.2302\n",
      "INFO:tensorflow:loss = 59.373436, step = 9301 (2.214 sec)\n",
      "INFO:tensorflow:global_step/sec: 6.24684\n",
      "INFO:tensorflow:loss = 64.11261, step = 9401 (16.070 sec)\n",
      "INFO:tensorflow:global_step/sec: 47.096\n",
      "INFO:tensorflow:loss = 62.76235, step = 9501 (2.059 sec)\n",
      "INFO:tensorflow:global_step/sec: 45.5611\n",
      "INFO:tensorflow:loss = 57.1371, step = 9601 (2.195 sec)\n",
      "INFO:tensorflow:global_step/sec: 6.57429\n",
      "INFO:tensorflow:loss = 60.46129, step = 9701 (15.212 sec)\n",
      "INFO:tensorflow:global_step/sec: 49.7846\n",
      "INFO:tensorflow:loss = 60.368248, step = 9801 (2.009 sec)\n",
      "INFO:tensorflow:global_step/sec: 51.0253\n",
      "INFO:tensorflow:loss = 60.483356, step = 9901 (1.960 sec)\n",
      "INFO:tensorflow:Saving checkpoints for 10000 into C:\\Users\\Micah\\AppData\\Local\\Temp\\tmphxke3cfj\\model.ckpt.\n",
      "INFO:tensorflow:Loss for final step: 53.056625.\n"
     ]
    },
    {
     "data": {
      "text/plain": [
       "<tensorflow.python.estimator.canned.dnn.DNNClassifier at 0x23aba5ea7f0>"
      ]
     },
     "execution_count": 76,
     "metadata": {},
     "output_type": "execute_result"
    }
   ],
   "source": [
    "classifier.train(\n",
    "    input_fn=lambda:train_input_fn(train_x,train_y,100), steps=10000)"
   ]
  },
  {
   "cell_type": "code",
   "execution_count": 77,
   "metadata": {},
   "outputs": [
    {
     "name": "stdout",
     "output_type": "stream",
     "text": [
      "INFO:tensorflow:Starting evaluation at 2018-02-26-23:35:53\n",
      "INFO:tensorflow:Restoring parameters from C:\\Users\\Micah\\AppData\\Local\\Temp\\tmphxke3cfj\\model.ckpt-10000\n",
      "INFO:tensorflow:Finished evaluation at 2018-02-26-23:36:00\n",
      "INFO:tensorflow:Saving dict for global step 10000: accuracy = 0.54712206, accuracy_baseline = 0.53099304, auc = 0.52906436, auc_precision_recall = 0.5439565, average_loss = 0.7830395, global_step = 10000, label/mean = 0.53099304, loss = 77.37409, prediction/mean = 0.51038104\n",
      "\n",
      "Test set accuracy: 0.547\n",
      "\n"
     ]
    }
   ],
   "source": [
    "eval_result = classifier.evaluate(\n",
    "    input_fn=lambda:eval_input_fn(test_x, test_y, 100))\n",
    "\n",
    "print('\\nTest set accuracy: {accuracy:0.3f}\\n'.format(**eval_result))"
   ]
  }
 ],
 "metadata": {
  "kernelspec": {
   "display_name": "Python 3",
   "language": "python",
   "name": "python3"
  },
  "language_info": {
   "codemirror_mode": {
    "name": "ipython",
    "version": 3
   },
   "file_extension": ".py",
   "mimetype": "text/x-python",
   "name": "python",
   "nbconvert_exporter": "python",
   "pygments_lexer": "ipython3",
   "version": "3.6.2"
  }
 },
 "nbformat": 4,
 "nbformat_minor": 2
}
