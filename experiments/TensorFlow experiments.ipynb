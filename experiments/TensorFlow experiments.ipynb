{
 "cells": [
  {
   "cell_type": "code",
   "execution_count": 25,
   "metadata": {
    "collapsed": true
   },
   "outputs": [],
   "source": [
    "import tensorflow as tf\n",
    "import pandas as pd\n",
    "import numpy as np"
   ]
  },
  {
   "cell_type": "code",
   "execution_count": 26,
   "metadata": {
    "collapsed": true
   },
   "outputs": [],
   "source": [
    "# trainset = np.load('small_train_high_low.npy')\n",
    "# testset = np.load('small_test_high_low.npy')\n",
    "trainset = np.load('direction_train.npy')\n",
    "testset = np.load('direction_test.npy')"
   ]
  },
  {
   "cell_type": "code",
   "execution_count": 27,
   "metadata": {},
   "outputs": [
    {
     "data": {
      "text/plain": [
       "False"
      ]
     },
     "execution_count": 27,
     "metadata": {},
     "output_type": "execute_result"
    }
   ],
   "source": [
    "np.any(np.isnan(trainset))"
   ]
  },
  {
   "cell_type": "code",
   "execution_count": 28,
   "metadata": {
    "collapsed": true
   },
   "outputs": [],
   "source": [
    "def dict_from_array(arr):\n",
    "    d = {}\n",
    "    for row in range(arr.shape[1]):\n",
    "        d[str(row)] = arr[:,row]\n",
    "    return d\n",
    "\n",
    "def no_zeros(arr):\n",
    "    arr[arr==0] = 1e-8\n",
    "    return arr"
   ]
  },
  {
   "cell_type": "code",
   "execution_count": 29,
   "metadata": {
    "collapsed": true
   },
   "outputs": [],
   "source": [
    "#Taken from https://www.tensorflow.org/get_started/datasets_quickstart\n",
    "def train_input_fn(features, labels, batch_size):\n",
    "    \"\"\"An input function for training\"\"\"\n",
    "    # Convert the inputs to a Dataset.\n",
    "    dataset = tf.data.Dataset.from_tensor_slices((dict(features), labels))\n",
    "\n",
    "    # Shuffle, repeat, and batch the examples.\n",
    "    dataset = dataset.shuffle(buffer_size=30000).repeat(count=None).batch(batch_size)\n",
    "\n",
    "    # Build the Iterator, and return the read end of the pipeline.\n",
    "    return dataset.make_one_shot_iterator().get_next()\n",
    "\n",
    "def eval_input_fn(features, labels=None, batch_size=None):\n",
    "    \"\"\"An input function for evaluation or prediction\"\"\"\n",
    "    if labels is None:\n",
    "        # No labels, use only features.\n",
    "        inputs = features\n",
    "    else:\n",
    "        inputs = (features, labels)\n",
    "\n",
    "    # Convert inputs to a tf.dataset object.\n",
    "    dataset = tf.data.Dataset.from_tensor_slices(inputs)\n",
    "\n",
    "    # Batch the examples\n",
    "    assert batch_size is not None, \"batch_size must not be None\"\n",
    "    dataset = dataset.batch(batch_size)\n",
    "\n",
    "    # Return the read end of the pipeline.\n",
    "    return dataset.make_one_shot_iterator().get_next()\n"
   ]
  },
  {
   "cell_type": "code",
   "execution_count": 30,
   "metadata": {},
   "outputs": [
    {
     "name": "stdout",
     "output_type": "stream",
     "text": [
      "28458\n"
     ]
    }
   ],
   "source": [
    "train_x = dict_from_array(no_zeros(trainset[:,:-1]))\n",
    "train_y = trainset[:,-1]\n",
    "test_x = dict_from_array(no_zeros(testset[:,:-1]))\n",
    "test_y = testset[:,-1]\n",
    "print(len(train_y))"
   ]
  },
  {
   "cell_type": "code",
   "execution_count": 31,
   "metadata": {
    "collapsed": true
   },
   "outputs": [],
   "source": [
    "feature_columns = []\n",
    "for i in range(len(train_x)):\n",
    "    feature_columns.append(tf.feature_column.numeric_column(key=str(i)))"
   ]
  },
  {
   "cell_type": "code",
   "execution_count": 32,
   "metadata": {},
   "outputs": [
    {
     "data": {
      "text/plain": [
       "164"
      ]
     },
     "execution_count": 32,
     "metadata": {},
     "output_type": "execute_result"
    }
   ],
   "source": [
    "len(feature_columns)"
   ]
  },
  {
   "cell_type": "code",
   "execution_count": 33,
   "metadata": {},
   "outputs": [
    {
     "name": "stdout",
     "output_type": "stream",
     "text": [
      "INFO:tensorflow:Using default config.\n",
      "WARNING:tensorflow:Using temporary folder as model directory: C:\\Users\\Micah\\AppData\\Local\\Temp\\tmpwnt1p4qp\n",
      "INFO:tensorflow:Using config: {'_model_dir': 'C:\\\\Users\\\\Micah\\\\AppData\\\\Local\\\\Temp\\\\tmpwnt1p4qp', '_tf_random_seed': None, '_save_summary_steps': 100, '_save_checkpoints_steps': None, '_save_checkpoints_secs': 600, '_session_config': None, '_keep_checkpoint_max': 5, '_keep_checkpoint_every_n_hours': 10000, '_log_step_count_steps': 100, '_service': None, '_cluster_spec': <tensorflow.python.training.server_lib.ClusterSpec object at 0x0000023A039483C8>, '_task_type': 'worker', '_task_id': 0, '_master': '', '_is_chief': True, '_num_ps_replicas': 0, '_num_worker_replicas': 1}\n"
     ]
    }
   ],
   "source": [
    "classifier = tf.estimator.DNNClassifier(\n",
    "    feature_columns = feature_columns,\n",
    "    hidden_units = [81, 40],\n",
    "    n_classes = 2)"
   ]
  },
  {
   "cell_type": "code",
   "execution_count": 34,
   "metadata": {
    "scrolled": true
   },
   "outputs": [
    {
     "name": "stdout",
     "output_type": "stream",
     "text": [
      "INFO:tensorflow:Create CheckpointSaverHook.\n",
      "INFO:tensorflow:Saving checkpoints for 1 into C:\\Users\\Micah\\AppData\\Local\\Temp\\tmpwnt1p4qp\\model.ckpt.\n",
      "INFO:tensorflow:loss = 92.422775, step = 1\n",
      "INFO:tensorflow:global_step/sec: 61.1873\n",
      "INFO:tensorflow:loss = 14.969423, step = 101 (1.636 sec)\n",
      "INFO:tensorflow:global_step/sec: 111.419\n",
      "INFO:tensorflow:loss = 7.3293724, step = 201 (0.897 sec)\n",
      "INFO:tensorflow:global_step/sec: 30.5767\n",
      "INFO:tensorflow:loss = 0.77275985, step = 301 (3.271 sec)\n",
      "INFO:tensorflow:global_step/sec: 101.146\n",
      "INFO:tensorflow:loss = 1.5305548, step = 401 (0.988 sec)\n",
      "INFO:tensorflow:global_step/sec: 103.347\n",
      "INFO:tensorflow:loss = 0.7906143, step = 501 (0.968 sec)\n",
      "INFO:tensorflow:global_step/sec: 29.035\n",
      "INFO:tensorflow:loss = 0.25921845, step = 601 (3.444 sec)\n",
      "INFO:tensorflow:global_step/sec: 104.726\n",
      "INFO:tensorflow:loss = 0.15281747, step = 701 (0.955 sec)\n",
      "INFO:tensorflow:global_step/sec: 108.13\n",
      "INFO:tensorflow:loss = 0.5124504, step = 801 (0.925 sec)\n",
      "INFO:tensorflow:global_step/sec: 28.5691\n",
      "INFO:tensorflow:loss = 0.23365724, step = 901 (3.501 sec)\n",
      "INFO:tensorflow:global_step/sec: 104.56\n",
      "INFO:tensorflow:loss = 0.6900163, step = 1001 (0.957 sec)\n",
      "INFO:tensorflow:global_step/sec: 107.452\n",
      "INFO:tensorflow:loss = 0.046769176, step = 1101 (0.932 sec)\n",
      "INFO:tensorflow:global_step/sec: 26.5226\n",
      "INFO:tensorflow:loss = 0.18965602, step = 1201 (3.768 sec)\n",
      "INFO:tensorflow:global_step/sec: 104.432\n",
      "INFO:tensorflow:loss = 0.09436012, step = 1301 (0.958 sec)\n",
      "INFO:tensorflow:global_step/sec: 105.849\n",
      "INFO:tensorflow:loss = 1.4839671, step = 1401 (0.945 sec)\n",
      "INFO:tensorflow:global_step/sec: 28.2301\n",
      "INFO:tensorflow:loss = 0.08744788, step = 1501 (3.543 sec)\n",
      "INFO:tensorflow:global_step/sec: 106.532\n",
      "INFO:tensorflow:loss = 0.08619289, step = 1601 (0.938 sec)\n",
      "INFO:tensorflow:global_step/sec: 84.6197\n",
      "INFO:tensorflow:loss = 0.4142731, step = 1701 (1.182 sec)\n",
      "INFO:tensorflow:global_step/sec: 28.9335\n",
      "INFO:tensorflow:loss = 0.21746118, step = 1801 (3.457 sec)\n",
      "INFO:tensorflow:global_step/sec: 105.763\n",
      "INFO:tensorflow:loss = 0.035725333, step = 1901 (0.945 sec)\n",
      "INFO:tensorflow:global_step/sec: 27.2319\n",
      "INFO:tensorflow:loss = 0.043240443, step = 2001 (3.673 sec)\n",
      "INFO:tensorflow:global_step/sec: 103.266\n",
      "INFO:tensorflow:loss = 0.034708396, step = 2101 (0.968 sec)\n",
      "INFO:tensorflow:global_step/sec: 103.251\n",
      "INFO:tensorflow:loss = 0.039443813, step = 2201 (0.969 sec)\n",
      "INFO:tensorflow:global_step/sec: 26.6859\n",
      "INFO:tensorflow:loss = 0.03724063, step = 2301 (3.747 sec)\n",
      "INFO:tensorflow:global_step/sec: 98.8382\n",
      "INFO:tensorflow:loss = 0.03484308, step = 2401 (1.013 sec)\n",
      "INFO:tensorflow:global_step/sec: 99.795\n",
      "INFO:tensorflow:loss = 0.038593784, step = 2501 (1.003 sec)\n",
      "INFO:tensorflow:global_step/sec: 26.628\n",
      "INFO:tensorflow:loss = 0.017847545, step = 2601 (3.753 sec)\n",
      "INFO:tensorflow:global_step/sec: 106.933\n",
      "INFO:tensorflow:loss = 0.022812221, step = 2701 (0.935 sec)\n",
      "INFO:tensorflow:global_step/sec: 109.881\n",
      "INFO:tensorflow:loss = 0.018784743, step = 2801 (0.910 sec)\n",
      "INFO:tensorflow:global_step/sec: 26.7799\n",
      "INFO:tensorflow:loss = 0.021194322, step = 2901 (3.735 sec)\n",
      "INFO:tensorflow:global_step/sec: 102.88\n",
      "INFO:tensorflow:loss = 0.017318277, step = 3001 (0.971 sec)\n",
      "INFO:tensorflow:global_step/sec: 104.757\n",
      "INFO:tensorflow:loss = 0.02259174, step = 3101 (0.954 sec)\n",
      "INFO:tensorflow:global_step/sec: 26.5918\n",
      "INFO:tensorflow:loss = 0.017222626, step = 3201 (3.761 sec)\n",
      "INFO:tensorflow:global_step/sec: 104.176\n",
      "INFO:tensorflow:loss = 0.01967626, step = 3301 (0.960 sec)\n",
      "INFO:tensorflow:global_step/sec: 99.3978\n",
      "INFO:tensorflow:loss = 0.041094583, step = 3401 (1.007 sec)\n",
      "INFO:tensorflow:global_step/sec: 27.5194\n",
      "INFO:tensorflow:loss = 0.034916297, step = 3501 (3.634 sec)\n",
      "INFO:tensorflow:global_step/sec: 103.711\n",
      "INFO:tensorflow:loss = 0.020452408, step = 3601 (0.964 sec)\n",
      "INFO:tensorflow:global_step/sec: 26.89\n",
      "INFO:tensorflow:loss = 0.021676589, step = 3701 (3.719 sec)\n",
      "INFO:tensorflow:global_step/sec: 103.185\n",
      "INFO:tensorflow:loss = 0.01997168, step = 3801 (0.968 sec)\n",
      "INFO:tensorflow:global_step/sec: 106.675\n",
      "INFO:tensorflow:loss = 0.011859123, step = 3901 (0.937 sec)\n",
      "INFO:tensorflow:global_step/sec: 27.0345\n",
      "INFO:tensorflow:loss = 0.02570429, step = 4001 (3.739 sec)\n",
      "INFO:tensorflow:global_step/sec: 98.2171\n",
      "INFO:tensorflow:loss = 0.03702799, step = 4101 (0.978 sec)\n",
      "INFO:tensorflow:global_step/sec: 104.135\n",
      "INFO:tensorflow:loss = 0.02106491, step = 4201 (0.960 sec)\n",
      "INFO:tensorflow:global_step/sec: 26.2795\n",
      "INFO:tensorflow:loss = 0.012114078, step = 4301 (3.805 sec)\n",
      "INFO:tensorflow:global_step/sec: 102.514\n",
      "INFO:tensorflow:loss = 0.02381698, step = 4401 (0.975 sec)\n",
      "INFO:tensorflow:global_step/sec: 103.302\n",
      "INFO:tensorflow:loss = 0.022090582, step = 4501 (0.968 sec)\n",
      "INFO:tensorflow:global_step/sec: 26.104\n",
      "INFO:tensorflow:loss = 0.008483393, step = 4601 (3.831 sec)\n",
      "INFO:tensorflow:global_step/sec: 103.221\n",
      "INFO:tensorflow:loss = 0.014265427, step = 4701 (0.969 sec)\n",
      "INFO:tensorflow:global_step/sec: 103.473\n",
      "INFO:tensorflow:loss = 0.018319441, step = 4801 (0.966 sec)\n",
      "INFO:tensorflow:global_step/sec: 26.7165\n",
      "INFO:tensorflow:loss = 0.02351356, step = 4901 (3.743 sec)\n",
      "INFO:tensorflow:global_step/sec: 104.074\n",
      "INFO:tensorflow:loss = 0.011421343, step = 5001 (0.960 sec)\n",
      "INFO:tensorflow:global_step/sec: 104.471\n",
      "INFO:tensorflow:loss = 0.013211887, step = 5101 (0.958 sec)\n",
      "INFO:tensorflow:global_step/sec: 25.6122\n",
      "INFO:tensorflow:loss = 0.0070014847, step = 5201 (3.903 sec)\n",
      "INFO:tensorflow:global_step/sec: 103.969\n",
      "INFO:tensorflow:loss = 0.033767, step = 5301 (0.963 sec)\n",
      "INFO:tensorflow:global_step/sec: 80.3705\n",
      "INFO:tensorflow:loss = 0.11769427, step = 5401 (1.244 sec)\n",
      "INFO:tensorflow:global_step/sec: 27.963\n",
      "INFO:tensorflow:loss = 0.014708711, step = 5501 (3.576 sec)\n",
      "INFO:tensorflow:global_step/sec: 103.927\n",
      "INFO:tensorflow:loss = 0.008324212, step = 5601 (0.963 sec)\n",
      "INFO:tensorflow:global_step/sec: 26.8329\n",
      "INFO:tensorflow:loss = 0.01175197, step = 5701 (3.727 sec)\n",
      "INFO:tensorflow:global_step/sec: 103.8\n",
      "INFO:tensorflow:loss = 0.01882066, step = 5801 (0.963 sec)\n",
      "INFO:tensorflow:global_step/sec: 106.574\n",
      "INFO:tensorflow:loss = 0.011879578, step = 5901 (0.938 sec)\n",
      "INFO:tensorflow:global_step/sec: 25.1625\n",
      "INFO:tensorflow:loss = 0.01625163, step = 6001 (3.973 sec)\n",
      "INFO:tensorflow:global_step/sec: 102.095\n",
      "INFO:tensorflow:loss = 0.006813895, step = 6101 (0.980 sec)\n",
      "INFO:tensorflow:global_step/sec: 102.829\n",
      "INFO:tensorflow:loss = 0.006253424, step = 6201 (0.973 sec)\n",
      "INFO:tensorflow:global_step/sec: 26.529\n",
      "INFO:tensorflow:loss = 0.0041558286, step = 6301 (3.769 sec)\n",
      "INFO:tensorflow:global_step/sec: 98.7473\n",
      "INFO:tensorflow:loss = 0.010358535, step = 6401 (1.013 sec)\n",
      "INFO:tensorflow:global_step/sec: 99.7143\n",
      "INFO:tensorflow:loss = 0.006099132, step = 6501 (1.003 sec)\n",
      "INFO:tensorflow:global_step/sec: 26.2298\n",
      "INFO:tensorflow:loss = 0.002863496, step = 6601 (3.812 sec)\n",
      "INFO:tensorflow:global_step/sec: 99.6734\n",
      "INFO:tensorflow:loss = 0.0074129947, step = 6701 (1.003 sec)\n",
      "INFO:tensorflow:global_step/sec: 98.9131\n",
      "INFO:tensorflow:loss = 0.005889152, step = 6801 (1.011 sec)\n",
      "INFO:tensorflow:global_step/sec: 26.3354\n",
      "INFO:tensorflow:loss = 0.004399224, step = 6901 (3.797 sec)\n",
      "INFO:tensorflow:global_step/sec: 103.521\n",
      "INFO:tensorflow:loss = 0.083717585, step = 7001 (0.966 sec)\n",
      "INFO:tensorflow:global_step/sec: 97.2306\n",
      "INFO:tensorflow:loss = 0.00849759, step = 7101 (1.027 sec)\n",
      "INFO:tensorflow:global_step/sec: 26.1226\n",
      "INFO:tensorflow:loss = 0.006750779, step = 7201 (3.828 sec)\n",
      "INFO:tensorflow:global_step/sec: 104.723\n",
      "INFO:tensorflow:loss = 0.0077544125, step = 7301 (0.955 sec)\n",
      "INFO:tensorflow:global_step/sec: 25.5896\n",
      "INFO:tensorflow:loss = 0.00701283, step = 7401 (3.908 sec)\n",
      "INFO:tensorflow:global_step/sec: 101.333\n",
      "INFO:tensorflow:loss = 0.008739788, step = 7501 (0.988 sec)\n",
      "INFO:tensorflow:global_step/sec: 104.073\n",
      "INFO:tensorflow:loss = 0.010750536, step = 7601 (0.961 sec)\n",
      "INFO:tensorflow:global_step/sec: 27.1204\n",
      "INFO:tensorflow:loss = 0.0038573274, step = 7701 (3.686 sec)\n",
      "INFO:tensorflow:global_step/sec: 102.397\n",
      "INFO:tensorflow:loss = 0.007678778, step = 7801 (0.978 sec)\n",
      "INFO:tensorflow:global_step/sec: 102.924\n",
      "INFO:tensorflow:loss = 0.0028984267, step = 7901 (0.971 sec)\n",
      "INFO:tensorflow:global_step/sec: 25.6489\n",
      "INFO:tensorflow:loss = 0.005645537, step = 8001 (3.899 sec)\n"
     ]
    },
    {
     "name": "stdout",
     "output_type": "stream",
     "text": [
      "INFO:tensorflow:global_step/sec: 102.913\n",
      "INFO:tensorflow:loss = 0.0026141058, step = 8101 (0.973 sec)\n",
      "INFO:tensorflow:global_step/sec: 105.058\n",
      "INFO:tensorflow:loss = 0.0053898254, step = 8201 (0.951 sec)\n",
      "INFO:tensorflow:global_step/sec: 26.6088\n",
      "INFO:tensorflow:loss = 0.0032148531, step = 8301 (3.759 sec)\n",
      "INFO:tensorflow:global_step/sec: 102.508\n",
      "INFO:tensorflow:loss = 0.0059385533, step = 8401 (0.975 sec)\n",
      "INFO:tensorflow:global_step/sec: 102.593\n",
      "INFO:tensorflow:loss = 0.0037871727, step = 8501 (0.976 sec)\n",
      "INFO:tensorflow:global_step/sec: 25.8717\n",
      "INFO:tensorflow:loss = 0.0068945154, step = 8601 (3.864 sec)\n",
      "INFO:tensorflow:global_step/sec: 103.983\n",
      "INFO:tensorflow:loss = 0.0027255723, step = 8701 (0.963 sec)\n",
      "INFO:tensorflow:global_step/sec: 103.961\n",
      "INFO:tensorflow:loss = 0.0035033403, step = 8801 (0.962 sec)\n",
      "INFO:tensorflow:global_step/sec: 25.988\n",
      "INFO:tensorflow:loss = 0.004979263, step = 8901 (3.848 sec)\n",
      "INFO:tensorflow:global_step/sec: 96.6454\n",
      "INFO:tensorflow:loss = 0.0032073827, step = 9001 (1.033 sec)\n",
      "INFO:tensorflow:global_step/sec: 76.1884\n",
      "INFO:tensorflow:loss = 0.0050165737, step = 9101 (1.313 sec)\n",
      "INFO:tensorflow:global_step/sec: 27.1888\n",
      "INFO:tensorflow:loss = 0.015515061, step = 9201 (3.678 sec)\n",
      "INFO:tensorflow:global_step/sec: 105.628\n",
      "INFO:tensorflow:loss = 0.051450297, step = 9301 (0.946 sec)\n",
      "INFO:tensorflow:global_step/sec: 24.4664\n",
      "INFO:tensorflow:loss = 0.0026280612, step = 9401 (4.088 sec)\n",
      "INFO:tensorflow:global_step/sec: 98.2342\n",
      "INFO:tensorflow:loss = 0.0031377592, step = 9501 (1.017 sec)\n",
      "INFO:tensorflow:global_step/sec: 100.865\n",
      "INFO:tensorflow:loss = 0.0048866183, step = 9601 (0.991 sec)\n",
      "INFO:tensorflow:global_step/sec: 25.0402\n",
      "INFO:tensorflow:loss = 0.005314435, step = 9701 (3.995 sec)\n",
      "INFO:tensorflow:global_step/sec: 100.334\n",
      "INFO:tensorflow:loss = 0.004056077, step = 9801 (0.996 sec)\n",
      "INFO:tensorflow:global_step/sec: 103.945\n",
      "INFO:tensorflow:loss = 0.0012366427, step = 9901 (0.963 sec)\n",
      "INFO:tensorflow:Saving checkpoints for 10000 into C:\\Users\\Micah\\AppData\\Local\\Temp\\tmpwnt1p4qp\\model.ckpt.\n",
      "INFO:tensorflow:Loss for final step: 0.002952409.\n"
     ]
    },
    {
     "data": {
      "text/plain": [
       "<tensorflow.python.estimator.canned.dnn.DNNClassifier at 0x23a0a9c1f98>"
      ]
     },
     "execution_count": 34,
     "metadata": {},
     "output_type": "execute_result"
    }
   ],
   "source": [
    "classifier.train(\n",
    "    input_fn=lambda:train_input_fn(train_x,train_y,100), steps=10000)"
   ]
  },
  {
   "cell_type": "code",
   "execution_count": 17,
   "metadata": {},
   "outputs": [
    {
     "name": "stdout",
     "output_type": "stream",
     "text": [
      "INFO:tensorflow:Starting evaluation at 2018-02-25-23:54:00\n",
      "INFO:tensorflow:Restoring parameters from C:\\Users\\Micah\\AppData\\Local\\Temp\\tmp59w4y821\\model.ckpt-10000\n",
      "INFO:tensorflow:Finished evaluation at 2018-02-25-23:54:04\n",
      "INFO:tensorflow:Saving dict for global step 10000: accuracy = 0.9971537, accuracy_baseline = 0.5075901, auc = 0.99812835, auc_precision_recall = 0.99907726, average_loss = 0.015762577, global_step = 10000, label/mean = 0.5075901, loss = 1.5575396, prediction/mean = 0.5046259\n",
      "\n",
      "Test set accuracy: 0.997\n",
      "\n"
     ]
    }
   ],
   "source": [
    "eval_result = classifier.evaluate(\n",
    "    input_fn=lambda:eval_input_fn(test_x, test_y, 100))\n",
    "\n",
    "print('\\nTest set accuracy: {accuracy:0.3f}\\n'.format(**eval_result))"
   ]
  }
 ],
 "metadata": {
  "kernelspec": {
   "display_name": "Python 3",
   "language": "python",
   "name": "python3"
  },
  "language_info": {
   "codemirror_mode": {
    "name": "ipython",
    "version": 3
   },
   "file_extension": ".py",
   "mimetype": "text/x-python",
   "name": "python",
   "nbconvert_exporter": "python",
   "pygments_lexer": "ipython3",
   "version": "3.6.2"
  }
 },
 "nbformat": 4,
 "nbformat_minor": 2
}
