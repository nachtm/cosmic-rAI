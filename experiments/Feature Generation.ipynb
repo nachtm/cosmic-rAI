{
 "cells": [
  {
   "cell_type": "markdown",
   "metadata": {},
   "source": [
    "# Setup"
   ]
  },
  {
   "cell_type": "markdown",
   "metadata": {},
   "source": [
    "## Imports"
   ]
  },
  {
   "cell_type": "code",
   "execution_count": 16,
   "metadata": {
    "collapsed": true
   },
   "outputs": [],
   "source": [
    "import numpy as np\n",
    "import math"
   ]
  },
  {
   "cell_type": "markdown",
   "metadata": {},
   "source": [
    "## Useful Functions"
   ]
  },
  {
   "cell_type": "code",
   "execution_count": 2,
   "metadata": {
    "collapsed": true
   },
   "outputs": [],
   "source": [
    "def gen_matrix_single_data(data, feature_dict, direction=False):\n",
    "    event_matrix = np.zeros((len(data['Composition']), len(feature_dict) + 1))\n",
    "\n",
    "    for i in range(len(data['Charges'])):\n",
    "\n",
    "        #insert sensor data\n",
    "        event = data['Charges'][i]\n",
    "        for sensor in data['Charges'][i].keys():\n",
    "            try:\n",
    "                event_matrix[i, feature_dict[sensor]] = 0 if math.isnan(event[sensor]) else event[sensor]\n",
    "            except KeyError:\n",
    "                continue\n",
    "        \n",
    "        #insert direction data\n",
    "        if direction:\n",
    "            event_matrix[i, feature_dict['zenith']] = data['dir_MC'][i][0]\n",
    "            event_matrix[i, feature_dict['azimuth']] = data['dir_MC'][i][1]  \n",
    "\n",
    "        is_proton = data['Composition'][i] == 'PPlus'  \n",
    "        event_matrix[i, -1] = 0 if is_proton else 1\n",
    "    return event_matrix"
   ]
  },
  {
   "cell_type": "code",
   "execution_count": 3,
   "metadata": {
    "collapsed": true
   },
   "outputs": [],
   "source": [
    "'''\n",
    "Construct a dictionary that goes from name -> column index in the matrix we're about to build\n",
    "'''\n",
    "def get_index_dict(sensors, direction_data=False):\n",
    "    name_index_dict = {}\n",
    "    for i in range(len(sensors)):\n",
    "        name_index_dict[sensors[i]] = i\n",
    "    i = len(sensors)\n",
    "    if direction_data:\n",
    "        name_index_dict['zenith'] = i\n",
    "        name_index_dict['azimuth'] = i + 1\n",
    "    return name_index_dict"
   ]
  },
  {
   "cell_type": "code",
   "execution_count": 4,
   "metadata": {
    "collapsed": true
   },
   "outputs": [],
   "source": [
    "'''\n",
    "Given a list of files, keys to pull from the dictionaries stored in those files, and a list of keys to call \n",
    "cleanup_list on, concatenates clean dictionaries into a single dictionary.\n",
    "'''\n",
    "def get_all_data(list_of_files, keys, dirty_keys):\n",
    "    list_of_dicts = [cleanup_data(np.load(filepath).item(), dirty_keys) for filepath in list_of_files]\n",
    "    full_dict = {}\n",
    "    for key in keys:\n",
    "        value_list = []\n",
    "        for d in list_of_dicts:\n",
    "            value_list.extend(d[key])\n",
    "        full_dict[key] = value_list\n",
    "    return full_dict\n",
    "\n",
    "def cleanup_data(data, keys_to_clean):\n",
    "    for key in keys_to_clean:\n",
    "        data[key] = cleanup_list(data[key])\n",
    "    return data\n",
    "\n",
    "'''\n",
    "Takes a list structured like [1a, 1b, 2a, 2b, 3a, 3b, ...] where a and b are sub-parts of a single piece of data,\n",
    "and returns [(1a, 1b), (2a, 2b), (3a, 3b)...]. \n",
    "'''\n",
    "def cleanup_list(li):\n",
    "    new_list = []\n",
    "    for i in range(len(li)//2):\n",
    "        new_list.append((li[2*i], li[2*i+1]))\n",
    "    return new_list"
   ]
  },
  {
   "cell_type": "code",
   "execution_count": 5,
   "metadata": {
    "collapsed": true
   },
   "outputs": [],
   "source": [
    "'''\n",
    "Given a dictionary of data, return a filtered copy of the same dictionary, according to the filt function.\n",
    "'''\n",
    "def filter_data(data, filter_func, keys_to_filter):\n",
    "    #initialize values\n",
    "    new_data = {}\n",
    "    for key in data.keys():\n",
    "        #if we're filtering this key, then leave it empty for now\n",
    "        if key in keys_to_filter:\n",
    "            new_data[key] = []\n",
    "        #otherwise, copy over the value\n",
    "        else:\n",
    "            new_data[key] = data[key].copy()\n",
    "    \n",
    "    #add values if they pass the filter\n",
    "    length = len(data[keys_to_filter[0]])\n",
    "    for event_ind in range(length):\n",
    "        if filter_func(data, event_ind):\n",
    "            for key in keys_to_filter:\n",
    "                new_data[key].append(data[key][event_ind])\n",
    "    return new_data\n"
   ]
  },
  {
   "cell_type": "markdown",
   "metadata": {},
   "source": [
    "## Load Data"
   ]
  },
  {
   "cell_type": "code",
   "execution_count": 6,
   "metadata": {
    "collapsed": true
   },
   "outputs": [],
   "source": [
    "keys = 'Charges', 'Energy', 'File_info', 'dir_reco', 'core_MC', 'Gain', 'core_reco', 'Position', 'dir_MC', 'Fit_status', 'Composition'\n",
    "dirty_keys = ('dir_MC', 'core_MC', 'dir_reco', 'core_reco')\n",
    "prefixes = ('../data/sim_12360_', '../data/sim_12362_')\n",
    "files = []\n",
    "for prefix in prefixes:\n",
    "    for i in range(20):\n",
    "        files.append('{0}{1:02d}.npy'.format(prefix,i))"
   ]
  },
  {
   "cell_type": "code",
   "execution_count": 7,
   "metadata": {},
   "outputs": [],
   "source": [
    "data = get_all_data(files, keys, dirty_keys)"
   ]
  },
  {
   "cell_type": "markdown",
   "metadata": {},
   "source": [
    "## Filter Sensor Charge features"
   ]
  },
  {
   "cell_type": "code",
   "execution_count": 8,
   "metadata": {
    "collapsed": true
   },
   "outputs": [],
   "source": [
    "all_sensors = list(data['Gain'][0].keys())"
   ]
  },
  {
   "cell_type": "markdown",
   "metadata": {},
   "source": [
    "## Filter events"
   ]
  },
  {
   "cell_type": "code",
   "execution_count": 9,
   "metadata": {
    "collapsed": true
   },
   "outputs": [],
   "source": [
    "keys_to_filter = ('Charges', 'Energy', 'File_info', 'dir_reco', 'core_MC', 'core_reco', 'dir_MC', 'Fit_status', 'Composition')"
   ]
  },
  {
   "cell_type": "markdown",
   "metadata": {},
   "source": [
    "# Different Experiments"
   ]
  },
  {
   "cell_type": "markdown",
   "metadata": {},
   "source": [
    "## Use only events in a certain azimuth/zenith band\n",
    "This got ~57% accuracy :("
   ]
  },
  {
   "cell_type": "code",
   "execution_count": 11,
   "metadata": {},
   "outputs": [],
   "source": [
    "all_indices_dir = get_index_dict(all_sensors)"
   ]
  },
  {
   "cell_type": "code",
   "execution_count": 14,
   "metadata": {},
   "outputs": [],
   "source": [
    "def is_between(point, lower, upper):\n",
    "    return point >= lower and point <= upper\n",
    "def is_in_band(d, i):\n",
    "    ze, az = d['dir_MC'][i]\n",
    "    return is_between(ze, 0, .17) and is_between(az, 0, 1) and (max(d['Charges'][i].values()) > 6)\n",
    "band_data = filter_data(data, is_in_band, keys_to_filter)"
   ]
  },
  {
   "cell_type": "code",
   "execution_count": 17,
   "metadata": {},
   "outputs": [],
   "source": [
    "mat = gen_matrix_single_data(band_data, all_indices_dir)"
   ]
  },
  {
   "cell_type": "code",
   "execution_count": 18,
   "metadata": {
    "collapsed": true
   },
   "outputs": [],
   "source": [
    "np.random.shuffle(mat)\n",
    "train_size = int(mat.shape[0] * .9)\n",
    "\n",
    "trainset = mat[:train_size]\n",
    "testset = mat[train_size:]"
   ]
  },
  {
   "cell_type": "code",
   "execution_count": 19,
   "metadata": {
    "collapsed": true
   },
   "outputs": [],
   "source": [
    "np.save('zeazfilter_train.npy', trainset)\n",
    "np.save('zeazfilter_test.npy', testset)"
   ]
  },
  {
   "cell_type": "markdown",
   "metadata": {},
   "source": [
    "## Use only events with max charges > 6"
   ]
  },
  {
   "cell_type": "code",
   "execution_count": 21,
   "metadata": {},
   "outputs": [],
   "source": [
    "all_indices_dir = get_index_dict(all_sensors)"
   ]
  },
  {
   "cell_type": "code",
   "execution_count": 23,
   "metadata": {},
   "outputs": [],
   "source": [
    "def has_high_energy(d, i):\n",
    "    return max(d['Charges'][i].values()) > 6\n",
    "band_data = filter_data(data, has_high_energy, keys_to_filter)"
   ]
  },
  {
   "cell_type": "code",
   "execution_count": 24,
   "metadata": {
    "collapsed": true
   },
   "outputs": [],
   "source": [
    "mat = gen_matrix_single_data(band_data, all_indices_dir)"
   ]
  },
  {
   "cell_type": "code",
   "execution_count": 25,
   "metadata": {
    "collapsed": true
   },
   "outputs": [],
   "source": [
    "np.random.shuffle(mat)\n",
    "train_size = int(mat.shape[0] * .9)\n",
    "\n",
    "trainset = mat[:train_size]\n",
    "testset = mat[train_size:]"
   ]
  },
  {
   "cell_type": "code",
   "execution_count": 26,
   "metadata": {
    "collapsed": true
   },
   "outputs": [],
   "source": [
    "np.save('highcharge_train.npy', trainset)\n",
    "np.save('highcharge_test.npy', testset)"
   ]
  },
  {
   "cell_type": "markdown",
   "metadata": {},
   "source": [
    "# Use events in a certain band with max charges > 6"
   ]
  },
  {
   "cell_type": "code",
   "execution_count": 28,
   "metadata": {},
   "outputs": [],
   "source": [
    "all_indices_dir = get_index_dict(all_sensors)"
   ]
  },
  {
   "cell_type": "code",
   "execution_count": 30,
   "metadata": {},
   "outputs": [],
   "source": [
    "band_data = filter_data(data, lambda d,i: has_high_energy(d,i) and is_in_band(d,i), keys_to_filter)"
   ]
  },
  {
   "cell_type": "code",
   "execution_count": 31,
   "metadata": {
    "collapsed": true
   },
   "outputs": [],
   "source": [
    "mat = gen_matrix_single_data(band_data, all_indices_dir)"
   ]
  },
  {
   "cell_type": "code",
   "execution_count": 32,
   "metadata": {
    "collapsed": true
   },
   "outputs": [],
   "source": [
    "np.random.shuffle(mat)\n",
    "train_size = int(mat.shape[0] * .9)\n",
    "\n",
    "trainset = mat[:train_size]\n",
    "testset = mat[train_size:]"
   ]
  },
  {
   "cell_type": "code",
   "execution_count": 33,
   "metadata": {
    "collapsed": true
   },
   "outputs": [],
   "source": [
    "np.save('zeazband_train.npy', trainset)\n",
    "np.save('zeazband_test.npy', testset)"
   ]
  },
  {
   "cell_type": "markdown",
   "metadata": {},
   "source": [
    "# Use events within a certain energy range "
   ]
  },
  {
   "cell_type": "code",
   "execution_count": 35,
   "metadata": {},
   "outputs": [],
   "source": [
    "all_indices_dir = get_index_dict(all_sensors)"
   ]
  },
  {
   "cell_type": "code",
   "execution_count": 38,
   "metadata": {},
   "outputs": [],
   "source": [
    "energy_binned_data = filter_data(data, lambda d,i: d['Energy'][i] < 5000000, keys_to_filter)"
   ]
  },
  {
   "cell_type": "code",
   "execution_count": 39,
   "metadata": {},
   "outputs": [],
   "source": [
    "mat = gen_matrix_single_data(energy_binned_data, all_indices_dir)"
   ]
  },
  {
   "cell_type": "code",
   "execution_count": 40,
   "metadata": {
    "collapsed": true
   },
   "outputs": [],
   "source": [
    "np.random.shuffle(mat)\n",
    "train_size = int(mat.shape[0] * .9)\n",
    "\n",
    "trainset = mat[:train_size]\n",
    "testset = mat[train_size:]"
   ]
  },
  {
   "cell_type": "code",
   "execution_count": 41,
   "metadata": {},
   "outputs": [
    {
     "data": {
      "text/plain": [
       "(176551, 324)"
      ]
     },
     "execution_count": 41,
     "metadata": {},
     "output_type": "execute_result"
    }
   ],
   "source": [
    "trainset.shape"
   ]
  },
  {
   "cell_type": "code",
   "execution_count": 42,
   "metadata": {
    "collapsed": true
   },
   "outputs": [],
   "source": [
    "np.save('enband_low_train.npy', trainset)\n",
    "np.save('enband_low_test.npy', testset)"
   ]
  }
 ],
 "metadata": {
  "kernelspec": {
   "display_name": "Python 3",
   "language": "python",
   "name": "python3"
  },
  "language_info": {
   "codemirror_mode": {
    "name": "ipython",
    "version": 3
   },
   "file_extension": ".py",
   "mimetype": "text/x-python",
   "name": "python",
   "nbconvert_exporter": "python",
   "pygments_lexer": "ipython3",
   "version": "3.6.2"
  }
 },
 "nbformat": 4,
 "nbformat_minor": 2
}
